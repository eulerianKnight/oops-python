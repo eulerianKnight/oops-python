{
 "cells": [
  {
   "cell_type": "markdown",
   "source": [
    "# Objects and Classes in Python"
   ],
   "metadata": {
    "collapsed": false
   },
   "id": "c0cadc539e8f1103"
  },
  {
   "cell_type": "markdown",
   "source": [
    "### Object\n",
    "\n",
    "- In Python, everything is an Object!\n",
    "- An object can be thought of as a container.\n",
    "- This container can contain \"data\" which are sometimes called as \"state\" which can be accessed through \"attribute\"\n",
    "- This container can also contain functionality which can also refer to its behavior which can be accessed through methods.\n",
    "- Consider an object called as \"my_car\": \n",
    "  - my_car:\n",
    "    - states\n",
    "      - brand = Ferrari\n",
    "      - model = 599XX\n",
    "      - year = 2010\n",
    "    - behavior\n",
    "      - accelerate\n",
    "      - brake\n",
    "      - steer\n",
    "- Accessed through dot notation.\n",
    "  - my_car.brand -> Ferrari\n",
    "  - my_car.accelerate(10)\n",
    "- Creating objects:\n",
    "  - How can we create the \"container\"?\n",
    "  - How do we define and set state?\n",
    "  - How do we define and implement behavior?\n",
    "  - How do we differentiate between both state and behavior?\n",
    "\n",
    "### Classes\n",
    "\n",
    "- Many languages use a class-based approach. A \"class\" is like a template used to create objects. Also called as \"type\".\n",
    "- Objects created from the class are called instances of that class or type.\n",
    "- Classes are themselves objects. They have attributes(state). They have behavior.\n",
    "- If a class is an object, and objects are created from classes, how are classes created?\n",
    "- Python classes are created from the type \"metaclass\". (More on it later).\n",
    "- Instances:\n",
    "  - classes have behavior. They are callable. This returns an instance of the class often called objects, differentiating from class.\n",
    "  - Instances are created from classes, their type is the class they were created from.\n",
    "    - If `MyClass` is a \"class\" in Python and `my_obj` is an instance of that class:\n",
    "        ```\n",
    "      my_obj = MyClass()\n",
    "      type(my_obj) -> MyClass\n",
    "      isinstance(my_obj, MyClass) -> True\n",
    "      ```\n",
    "- Creating Classes\n",
    "  - Use the `class` keyword.\n",
    "  - ```\n",
    "    class MyClass:\n",
    "      pass\n",
    "    ```\n",
    "  - Python creates an object called `MyClass` of type `type` and automatically provides us certain attributes(state) and methods(behavior)\n",
    "  - State: `MyClass.__name__` -> `MyClass`\n",
    "  - Behavior: `MyClass()` -> Returns an instance of `MyClass`\n",
    " "
   ],
   "metadata": {
    "collapsed": false
   },
   "id": "571f6354ea390ca2"
  },
  {
   "cell_type": "code",
   "execution_count": 44,
   "outputs": [
    {
     "data": {
      "text/plain": "type"
     },
     "execution_count": 44,
     "metadata": {},
     "output_type": "execute_result"
    }
   ],
   "source": [
    "type(str)"
   ],
   "metadata": {
    "collapsed": false,
    "ExecuteTime": {
     "end_time": "2023-09-13T05:46:41.499178300Z",
     "start_time": "2023-09-13T05:46:41.442517800Z"
    }
   },
   "id": "14f0e4103149ac4"
  },
  {
   "cell_type": "code",
   "execution_count": 45,
   "outputs": [
    {
     "data": {
      "text/plain": "type"
     },
     "execution_count": 45,
     "metadata": {},
     "output_type": "execute_result"
    }
   ],
   "source": [
    "type(int)"
   ],
   "metadata": {
    "collapsed": false,
    "ExecuteTime": {
     "end_time": "2023-09-13T05:46:49.501023400Z",
     "start_time": "2023-09-13T05:46:49.454291200Z"
    }
   },
   "id": "d7bbdf395a6d5696"
  },
  {
   "cell_type": "code",
   "execution_count": 48,
   "id": "initial_id",
   "metadata": {
    "collapsed": true,
    "ExecuteTime": {
     "end_time": "2023-09-13T05:52:38.757787500Z",
     "start_time": "2023-09-13T05:52:38.737727600Z"
    }
   },
   "outputs": [],
   "source": [
    "class Person:\n",
    "    pass"
   ]
  },
  {
   "cell_type": "code",
   "execution_count": 49,
   "outputs": [
    {
     "data": {
      "text/plain": "type"
     },
     "execution_count": 49,
     "metadata": {},
     "output_type": "execute_result"
    }
   ],
   "source": [
    "type(Person)"
   ],
   "metadata": {
    "collapsed": false,
    "ExecuteTime": {
     "end_time": "2023-09-13T05:52:45.581941100Z",
     "start_time": "2023-09-13T05:52:45.563901500Z"
    }
   },
   "id": "879b2378da52c0e2"
  },
  {
   "cell_type": "code",
   "execution_count": 50,
   "outputs": [
    {
     "data": {
      "text/plain": "type"
     },
     "execution_count": 50,
     "metadata": {},
     "output_type": "execute_result"
    }
   ],
   "source": [
    "type(type)"
   ],
   "metadata": {
    "collapsed": false,
    "ExecuteTime": {
     "end_time": "2023-09-13T05:53:01.434120300Z",
     "start_time": "2023-09-13T05:53:01.402104400Z"
    }
   },
   "id": "c32e7d77390e3db8"
  },
  {
   "cell_type": "code",
   "execution_count": 51,
   "outputs": [
    {
     "data": {
      "text/plain": "'Person'"
     },
     "execution_count": 51,
     "metadata": {},
     "output_type": "execute_result"
    }
   ],
   "source": [
    "Person.__name__"
   ],
   "metadata": {
    "collapsed": false,
    "ExecuteTime": {
     "end_time": "2023-09-13T05:53:13.255033100Z",
     "start_time": "2023-09-13T05:53:13.238013600Z"
    }
   },
   "id": "53eff53097a9ea6a"
  },
  {
   "cell_type": "code",
   "execution_count": 53,
   "outputs": [
    {
     "data": {
      "text/plain": "__main__.Person"
     },
     "execution_count": 53,
     "metadata": {},
     "output_type": "execute_result"
    }
   ],
   "source": [
    "a = Person()\n",
    "type(a)"
   ],
   "metadata": {
    "collapsed": false,
    "ExecuteTime": {
     "end_time": "2023-09-13T05:53:59.983131400Z",
     "start_time": "2023-09-13T05:53:59.953845500Z"
    }
   },
   "id": "71c86ebfcdd43e34"
  },
  {
   "cell_type": "code",
   "execution_count": 54,
   "outputs": [
    {
     "data": {
      "text/plain": "__main__.Person"
     },
     "execution_count": 54,
     "metadata": {},
     "output_type": "execute_result"
    }
   ],
   "source": [
    "a.__class__"
   ],
   "metadata": {
    "collapsed": false,
    "ExecuteTime": {
     "end_time": "2023-09-13T05:54:05.717955600Z",
     "start_time": "2023-09-13T05:54:05.699821400Z"
    }
   },
   "id": "aca5c9a04d1a523d"
  },
  {
   "cell_type": "code",
   "execution_count": 7,
   "outputs": [
    {
     "data": {
      "text/plain": "True"
     },
     "execution_count": 7,
     "metadata": {},
     "output_type": "execute_result"
    }
   ],
   "source": [
    "type(a) is a.__class__"
   ],
   "metadata": {
    "collapsed": false,
    "ExecuteTime": {
     "end_time": "2023-09-09T19:53:46.654219200Z",
     "start_time": "2023-09-09T19:53:46.607335Z"
    }
   },
   "id": "8f93285923fdbbd2"
  },
  {
   "cell_type": "code",
   "execution_count": 8,
   "outputs": [
    {
     "data": {
      "text/plain": "True"
     },
     "execution_count": 8,
     "metadata": {},
     "output_type": "execute_result"
    }
   ],
   "source": [
    "isinstance(a, Person)"
   ],
   "metadata": {
    "collapsed": false,
    "ExecuteTime": {
     "end_time": "2023-09-09T19:53:59.368376900Z",
     "start_time": "2023-09-09T19:53:59.355158Z"
    }
   },
   "id": "94393629d9b8cf0c"
  },
  {
   "cell_type": "code",
   "execution_count": 9,
   "outputs": [
    {
     "data": {
      "text/plain": "type"
     },
     "execution_count": 9,
     "metadata": {},
     "output_type": "execute_result"
    }
   ],
   "source": [
    "type(str)"
   ],
   "metadata": {
    "collapsed": false,
    "ExecuteTime": {
     "end_time": "2023-09-09T19:54:40.839769Z",
     "start_time": "2023-09-09T19:54:40.824140600Z"
    }
   },
   "id": "546058cfc121c806"
  },
  {
   "cell_type": "code",
   "execution_count": 55,
   "outputs": [
    {
     "name": "stdout",
     "output_type": "stream",
     "text": [
      "Help on class type in module builtins:\n",
      "\n",
      "class type(object)\n",
      " |  type(object) -> the object's type\n",
      " |  type(name, bases, dict, **kwds) -> a new type\n",
      " |  \n",
      " |  Methods defined here:\n",
      " |  \n",
      " |  __call__(self, /, *args, **kwargs)\n",
      " |      Call self as a function.\n",
      " |  \n",
      " |  __delattr__(self, name, /)\n",
      " |      Implement delattr(self, name).\n",
      " |  \n",
      " |  __dir__(self, /)\n",
      " |      Specialized __dir__ implementation for types.\n",
      " |  \n",
      " |  __getattribute__(self, name, /)\n",
      " |      Return getattr(self, name).\n",
      " |  \n",
      " |  __init__(self, /, *args, **kwargs)\n",
      " |      Initialize self.  See help(type(self)) for accurate signature.\n",
      " |  \n",
      " |  __instancecheck__(self, instance, /)\n",
      " |      Check if an object is an instance.\n",
      " |  \n",
      " |  __or__(self, value, /)\n",
      " |      Return self|value.\n",
      " |  \n",
      " |  __repr__(self, /)\n",
      " |      Return repr(self).\n",
      " |  \n",
      " |  __ror__(self, value, /)\n",
      " |      Return value|self.\n",
      " |  \n",
      " |  __setattr__(self, name, value, /)\n",
      " |      Implement setattr(self, name, value).\n",
      " |  \n",
      " |  __sizeof__(self, /)\n",
      " |      Return memory consumption of the type object.\n",
      " |  \n",
      " |  __subclasscheck__(self, subclass, /)\n",
      " |      Check if a class is a subclass.\n",
      " |  \n",
      " |  __subclasses__(self, /)\n",
      " |      Return a list of immediate subclasses.\n",
      " |  \n",
      " |  mro(self, /)\n",
      " |      Return a type's method resolution order.\n",
      " |  \n",
      " |  ----------------------------------------------------------------------\n",
      " |  Class methods defined here:\n",
      " |  \n",
      " |  __prepare__(...)\n",
      " |      __prepare__() -> dict\n",
      " |      used to create the namespace for the class statement\n",
      " |  \n",
      " |  ----------------------------------------------------------------------\n",
      " |  Static methods defined here:\n",
      " |  \n",
      " |  __new__(*args, **kwargs)\n",
      " |      Create and return a new object.  See help(type) for accurate signature.\n",
      " |  \n",
      " |  ----------------------------------------------------------------------\n",
      " |  Data descriptors defined here:\n",
      " |  \n",
      " |  __abstractmethods__\n",
      " |  \n",
      " |  __annotations__\n",
      " |  \n",
      " |  __dict__\n",
      " |  \n",
      " |  __text_signature__\n",
      " |  \n",
      " |  ----------------------------------------------------------------------\n",
      " |  Data and other attributes defined here:\n",
      " |  \n",
      " |  __base__ = <class 'object'>\n",
      " |      The base class of the class hierarchy.\n",
      " |      \n",
      " |      When called, it accepts no arguments and returns a new featureless\n",
      " |      instance that has no instance attributes and cannot be given any.\n",
      " |  \n",
      " |  \n",
      " |  __bases__ = (<class 'object'>,)\n",
      " |  \n",
      " |  __basicsize__ = 888\n",
      " |  \n",
      " |  __dictoffset__ = 264\n",
      " |  \n",
      " |  __flags__ = 2148031744\n",
      " |  \n",
      " |  __itemsize__ = 40\n",
      " |  \n",
      " |  __mro__ = (<class 'type'>, <class 'object'>)\n",
      " |  \n",
      " |  __weakrefoffset__ = 368\n"
     ]
    }
   ],
   "source": [
    "help(type)"
   ],
   "metadata": {
    "collapsed": false,
    "ExecuteTime": {
     "end_time": "2023-09-13T05:54:43.115256Z",
     "start_time": "2023-09-13T05:54:43.060511800Z"
    }
   },
   "id": "aa5a223aba9333b3"
  },
  {
   "cell_type": "markdown",
   "source": [
    "## Class Attribute"
   ],
   "metadata": {
    "collapsed": false
   },
   "id": "d0e6df1f72ec1e2b"
  },
  {
   "cell_type": "markdown",
   "source": [
    "### Defining Attributes in Classes"
   ],
   "metadata": {
    "collapsed": false
   },
   "id": "88e101ab53cd2fb9"
  },
  {
   "cell_type": "code",
   "execution_count": 56,
   "outputs": [],
   "source": [
    "class MyClass:\n",
    "    language = 'Python'\n",
    "    version = '3.11'"
   ],
   "metadata": {
    "collapsed": false,
    "ExecuteTime": {
     "end_time": "2023-09-13T05:57:14.515290Z",
     "start_time": "2023-09-13T05:57:14.490969600Z"
    }
   },
   "id": "d9a4c90cc7304317"
  },
  {
   "cell_type": "markdown",
   "source": [
    "- In addition to whatever attributes Python automatically creates for us, now `MyClass` also has 'language' and 'version' with a state 'Python' and '3.11' respectively."
   ],
   "metadata": {
    "collapsed": false
   },
   "id": "9a6ab3c1b824ea1d"
  },
  {
   "cell_type": "markdown",
   "source": [
    "### Retrieving Attributes\n",
    "\n",
    "- `getattr(object_symbol, attribute_name, optional_default)`\n",
    "- Shorthand way (Dot Notation)"
   ],
   "metadata": {
    "collapsed": false
   },
   "id": "76de0ea580b214d6"
  },
  {
   "cell_type": "code",
   "execution_count": 57,
   "outputs": [
    {
     "data": {
      "text/plain": "'Python'"
     },
     "execution_count": 57,
     "metadata": {},
     "output_type": "execute_result"
    }
   ],
   "source": [
    "getattr(MyClass, 'language')"
   ],
   "metadata": {
    "collapsed": false,
    "ExecuteTime": {
     "end_time": "2023-09-13T05:58:00.624465800Z",
     "start_time": "2023-09-13T05:58:00.606665900Z"
    }
   },
   "id": "c013e22b125c99f5"
  },
  {
   "cell_type": "code",
   "execution_count": 58,
   "outputs": [
    {
     "ename": "AttributeError",
     "evalue": "type object 'MyClass' has no attribute 'x'",
     "output_type": "error",
     "traceback": [
      "\u001B[1;31m---------------------------------------------------------------------------\u001B[0m",
      "\u001B[1;31mAttributeError\u001B[0m                            Traceback (most recent call last)",
      "Cell \u001B[1;32mIn[58], line 2\u001B[0m\n\u001B[0;32m      1\u001B[0m \u001B[38;5;66;03m# Suppose we try to get an attribute which doesn't exist\u001B[39;00m\n\u001B[1;32m----> 2\u001B[0m \u001B[38;5;28;43mgetattr\u001B[39;49m\u001B[43m(\u001B[49m\u001B[43mMyClass\u001B[49m\u001B[43m,\u001B[49m\u001B[43m \u001B[49m\u001B[38;5;124;43m'\u001B[39;49m\u001B[38;5;124;43mx\u001B[39;49m\u001B[38;5;124;43m'\u001B[39;49m\u001B[43m)\u001B[49m\n",
      "\u001B[1;31mAttributeError\u001B[0m: type object 'MyClass' has no attribute 'x'"
     ]
    }
   ],
   "source": [
    "# Suppose we try to get an attribute which doesn't exist\n",
    "getattr(MyClass, 'x')"
   ],
   "metadata": {
    "collapsed": false,
    "ExecuteTime": {
     "end_time": "2023-09-13T05:58:18.972076300Z",
     "start_time": "2023-09-13T05:58:18.930901200Z"
    }
   },
   "id": "27d77b1444bddb45"
  },
  {
   "cell_type": "code",
   "execution_count": 59,
   "outputs": [
    {
     "data": {
      "text/plain": "'N/A'"
     },
     "execution_count": 59,
     "metadata": {},
     "output_type": "execute_result"
    }
   ],
   "source": [
    "# Above error can be handled by specifying `optional_default` value\n",
    "getattr(MyClass, 'x', 'N/A')"
   ],
   "metadata": {
    "collapsed": false,
    "ExecuteTime": {
     "end_time": "2023-09-13T05:58:48.640227800Z",
     "start_time": "2023-09-13T05:58:48.623962900Z"
    }
   },
   "id": "70fa4d6d17210783"
  },
  {
   "cell_type": "code",
   "execution_count": 60,
   "outputs": [
    {
     "data": {
      "text/plain": "'Python'"
     },
     "execution_count": 60,
     "metadata": {},
     "output_type": "execute_result"
    }
   ],
   "source": [
    "# Dot notation\n",
    "MyClass.language"
   ],
   "metadata": {
    "collapsed": false,
    "ExecuteTime": {
     "end_time": "2023-09-13T05:59:03.980236300Z",
     "start_time": "2023-09-13T05:59:03.962014500Z"
    }
   },
   "id": "8419f916ec582cb"
  },
  {
   "cell_type": "code",
   "execution_count": 61,
   "outputs": [
    {
     "ename": "AttributeError",
     "evalue": "type object 'MyClass' has no attribute 'x'",
     "output_type": "error",
     "traceback": [
      "\u001B[1;31m---------------------------------------------------------------------------\u001B[0m",
      "\u001B[1;31mAttributeError\u001B[0m                            Traceback (most recent call last)",
      "Cell \u001B[1;32mIn[61], line 2\u001B[0m\n\u001B[0;32m      1\u001B[0m \u001B[38;5;66;03m# There is no way to handle AttributeError with this notation\u001B[39;00m\n\u001B[1;32m----> 2\u001B[0m \u001B[43mMyClass\u001B[49m\u001B[38;5;241;43m.\u001B[39;49m\u001B[43mx\u001B[49m\n",
      "\u001B[1;31mAttributeError\u001B[0m: type object 'MyClass' has no attribute 'x'"
     ]
    }
   ],
   "source": [
    "# There is no way to handle AttributeError with this notation\n",
    "MyClass.x"
   ],
   "metadata": {
    "collapsed": false,
    "ExecuteTime": {
     "end_time": "2023-09-13T05:59:18.551542300Z",
     "start_time": "2023-09-13T05:59:18.483246500Z"
    }
   },
   "id": "3e88b03cc1187c23"
  },
  {
   "cell_type": "markdown",
   "source": [
    "### Setting Attribute Values in Objects\n",
    "\n",
    "- setattr function: `setattr(object_symbol, attribute_name, attribute_value)`"
   ],
   "metadata": {
    "collapsed": false
   },
   "id": "8802b38602b77535"
  },
  {
   "cell_type": "code",
   "execution_count": 62,
   "outputs": [],
   "source": [
    "setattr(MyClass, 'version', '3.10')"
   ],
   "metadata": {
    "collapsed": false,
    "ExecuteTime": {
     "end_time": "2023-09-13T06:01:13.083333700Z",
     "start_time": "2023-09-13T06:01:13.060692200Z"
    }
   },
   "id": "ceefc6dc6a22f6f3"
  },
  {
   "cell_type": "code",
   "execution_count": 63,
   "outputs": [],
   "source": [
    "# Dot Notation\n",
    "MyClass.version = '3.10'"
   ],
   "metadata": {
    "collapsed": false,
    "ExecuteTime": {
     "end_time": "2023-09-13T06:01:13.893414Z",
     "start_time": "2023-09-13T06:01:13.876332500Z"
    }
   },
   "id": "b8554b6ee74c2905"
  },
  {
   "cell_type": "code",
   "execution_count": 64,
   "outputs": [],
   "source": [
    "MyClass.x = 5"
   ],
   "metadata": {
    "collapsed": false,
    "ExecuteTime": {
     "end_time": "2023-09-13T06:01:55.163315200Z",
     "start_time": "2023-09-13T06:01:55.133190400Z"
    }
   },
   "id": "fdbd51e4613f9a3c"
  },
  {
   "cell_type": "code",
   "execution_count": 65,
   "outputs": [],
   "source": [
    "# If there is no attribute existing, `setattr` or `dot-notation` can add that attribute\n",
    "# as Python is a Dynamic Language.\n",
    "setattr(MyClass, 'x', 100) # or MyClass.x = 100"
   ],
   "metadata": {
    "collapsed": false,
    "ExecuteTime": {
     "end_time": "2023-09-13T06:02:34.227586800Z",
     "start_time": "2023-09-13T06:02:34.210835500Z"
    }
   },
   "id": "7a4310d7fd951fd6"
  },
  {
   "cell_type": "code",
   "execution_count": 66,
   "outputs": [
    {
     "data": {
      "text/plain": "100"
     },
     "execution_count": 66,
     "metadata": {},
     "output_type": "execute_result"
    }
   ],
   "source": [
    "getattr(MyClass, 'x')"
   ],
   "metadata": {
    "collapsed": false,
    "ExecuteTime": {
     "end_time": "2023-09-13T06:02:35.001893100Z",
     "start_time": "2023-09-13T06:02:34.975742300Z"
    }
   },
   "id": "30d4a9a10fc2372f"
  },
  {
   "cell_type": "markdown",
   "source": [
    "### Where is the state stored?\n",
    "\n",
    "- It is stored in a dictionary.\n",
    "- It is called as `mappingproxy`, which is not `dict` but still a dictionary(a hashing map). It is read-only. It is a namespace.\n",
    "- It is not directly mutable dictionary but `setattr` can.\n",
    "- Ensures keys are strings (helps speeding with python).\n",
    "- Read about `Namespace`."
   ],
   "metadata": {
    "collapsed": false
   },
   "id": "1f00e99ce919e456"
  },
  {
   "cell_type": "code",
   "execution_count": 67,
   "outputs": [
    {
     "data": {
      "text/plain": "mappingproxy({'__module__': '__main__',\n              'language': 'Python',\n              'version': '3.10',\n              '__dict__': <attribute '__dict__' of 'MyClass' objects>,\n              '__weakref__': <attribute '__weakref__' of 'MyClass' objects>,\n              '__doc__': None,\n              'x': 100})"
     },
     "execution_count": 67,
     "metadata": {},
     "output_type": "execute_result"
    }
   ],
   "source": [
    "MyClass.__dict__"
   ],
   "metadata": {
    "collapsed": false,
    "ExecuteTime": {
     "end_time": "2023-09-13T06:03:27.741641900Z",
     "start_time": "2023-09-13T06:03:27.676983100Z"
    }
   },
   "id": "5a165640e3207520"
  },
  {
   "cell_type": "markdown",
   "source": [
    "### Deleting Attributes\n",
    "\n",
    "- `delattr(obj_symbol, attribute_name)`\n",
    "- `del` keyword."
   ],
   "metadata": {
    "collapsed": false
   },
   "id": "70f72622a69ed8e0"
  },
  {
   "cell_type": "code",
   "execution_count": 68,
   "outputs": [],
   "source": [
    "delattr(MyClass, 'version') # or del MyClass.version"
   ],
   "metadata": {
    "collapsed": false,
    "ExecuteTime": {
     "end_time": "2023-09-13T06:05:41.309953900Z",
     "start_time": "2023-09-13T06:05:41.290207700Z"
    }
   },
   "id": "ddbfd6eacebd2c9b"
  },
  {
   "cell_type": "code",
   "execution_count": 69,
   "outputs": [
    {
     "data": {
      "text/plain": "mappingproxy({'__module__': '__main__',\n              'language': 'Python',\n              '__dict__': <attribute '__dict__' of 'MyClass' objects>,\n              '__weakref__': <attribute '__weakref__' of 'MyClass' objects>,\n              '__doc__': None,\n              'x': 100})"
     },
     "execution_count": 69,
     "metadata": {},
     "output_type": "execute_result"
    }
   ],
   "source": [
    "MyClass.__dict__"
   ],
   "metadata": {
    "collapsed": false,
    "ExecuteTime": {
     "end_time": "2023-09-13T06:05:42.061487900Z",
     "start_time": "2023-09-13T06:05:42.033899900Z"
    }
   },
   "id": "718e78f375484fe2"
  },
  {
   "cell_type": "markdown",
   "source": [
    "### Try deleting the Python default attributes"
   ],
   "metadata": {
    "collapsed": false
   },
   "id": "515651d5e7fa73f0"
  },
  {
   "cell_type": "code",
   "execution_count": 70,
   "outputs": [
    {
     "data": {
      "text/plain": "'Python'"
     },
     "execution_count": 70,
     "metadata": {},
     "output_type": "execute_result"
    }
   ],
   "source": [
    "# Accessing the Namespace directly\n",
    "# MyClass.language\n",
    "# getattr(MyClass, 'language')\n",
    "MyClass.__dict__['language']"
   ],
   "metadata": {
    "collapsed": false,
    "ExecuteTime": {
     "end_time": "2023-09-13T06:06:50.723739400Z",
     "start_time": "2023-09-13T06:06:50.676820700Z"
    }
   },
   "id": "74bab133fdca3f61"
  },
  {
   "cell_type": "markdown",
   "source": [
    "### Setting an Attribute Value to a Callable\n",
    "\n",
    "- Attribute values can be any object. It can be other classes, any callable, anything.."
   ],
   "metadata": {
    "collapsed": false
   },
   "id": "7cde4917b80f01fc"
  },
  {
   "cell_type": "code",
   "execution_count": 73,
   "outputs": [
    {
     "data": {
      "text/plain": "mappingproxy({'__module__': '__main__',\n              'language': 'Python',\n              'say_hello': 'Hello World!',\n              '__dict__': <attribute '__dict__' of 'MyClass' objects>,\n              '__weakref__': <attribute '__weakref__' of 'MyClass' objects>,\n              '__doc__': None})"
     },
     "execution_count": 73,
     "metadata": {},
     "output_type": "execute_result"
    }
   ],
   "source": [
    "def say_hello():\n",
    "    return 'Hello World!'\n",
    "\n",
    "class MyClass:\n",
    "    language = \"Python\"\n",
    "    say_hello = say_hello()\n",
    "\n",
    "\n",
    "MyClass.__dict__"
   ],
   "metadata": {
    "collapsed": false,
    "ExecuteTime": {
     "end_time": "2023-09-13T06:09:03.069469400Z",
     "start_time": "2023-09-13T06:09:03.045480200Z"
    }
   },
   "id": "a5da4f597639c010"
  },
  {
   "cell_type": "code",
   "execution_count": 74,
   "outputs": [
    {
     "data": {
      "text/plain": "'Hello World!'"
     },
     "execution_count": 74,
     "metadata": {},
     "output_type": "execute_result"
    }
   ],
   "source": [
    "MyClass.__dict__['say_hello']"
   ],
   "metadata": {
    "collapsed": false,
    "ExecuteTime": {
     "end_time": "2023-09-13T06:09:28.351308800Z",
     "start_time": "2023-09-13T06:09:28.287804500Z"
    }
   },
   "id": "b0de81c37c0cfc4c"
  },
  {
   "cell_type": "markdown",
   "source": [
    "### Classes are Callable\n",
    "\n",
    "- When a class is created using `class` keyword, Python automatically adds behaviors to the class.\n",
    "- It adds something to make the class 'callable'. \n",
    "- The return value of that callable is an `object`. \n",
    "- The `type` of the object is the `class object`.\n",
    "- When we 'call' a class, a class `instance` object is created.\n",
    "- This instantiated object has its own `namespace` which is different from the `namespace` of the `class` that was used to create the object.\n",
    "- This object has some attributes Python automatically implements:\n",
    "    - `__dict__` is the object's local namespace.\n",
    "    - `__class__` tells us which class was used to instantiate the object."
   ],
   "metadata": {
    "collapsed": false
   },
   "id": "fefe11a93b7daf9d"
  },
  {
   "cell_type": "code",
   "execution_count": 75,
   "outputs": [
    {
     "data": {
      "text/plain": "(mappingproxy({'__module__': '__main__',\n               'language': 'Python',\n               '__dict__': <attribute '__dict__' of 'MyClass' objects>,\n               '__weakref__': <attribute '__weakref__' of 'MyClass' objects>,\n               '__doc__': None}),\n {})"
     },
     "execution_count": 75,
     "metadata": {},
     "output_type": "execute_result"
    }
   ],
   "source": [
    "class MyClass:\n",
    "    language = \"Python\"\n",
    "    \n",
    "my_obj = MyClass()\n",
    "\n",
    "MyClass.__dict__, my_obj.__dict__"
   ],
   "metadata": {
    "collapsed": false,
    "ExecuteTime": {
     "end_time": "2023-09-13T06:11:41.254803800Z",
     "start_time": "2023-09-13T06:11:41.239317400Z"
    }
   },
   "id": "66d2a7079573e147"
  },
  {
   "cell_type": "code",
   "execution_count": 76,
   "outputs": [
    {
     "data": {
      "text/plain": "({'year': 1992},\n mappingproxy({'__module__': '__main__',\n               'language': 'Python',\n               '__dict__': <attribute '__dict__' of 'MyClass' objects>,\n               '__weakref__': <attribute '__weakref__' of 'MyClass' objects>,\n               '__doc__': None}))"
     },
     "execution_count": 76,
     "metadata": {},
     "output_type": "execute_result"
    }
   ],
   "source": [
    "my_obj.year = 1992\n",
    "my_obj.__dict__, MyClass.__dict__"
   ],
   "metadata": {
    "collapsed": false,
    "ExecuteTime": {
     "end_time": "2023-09-13T06:18:04.564239900Z",
     "start_time": "2023-09-13T06:18:04.538072200Z"
    }
   },
   "id": "4c7513ebee532fd3"
  },
  {
   "cell_type": "code",
   "execution_count": 79,
   "outputs": [
    {
     "data": {
      "text/plain": "type"
     },
     "execution_count": 79,
     "metadata": {},
     "output_type": "execute_result"
    }
   ],
   "source": [
    "class MyClass:\n",
    "    pass\n",
    "type(MyClass)"
   ],
   "metadata": {
    "collapsed": false,
    "ExecuteTime": {
     "end_time": "2023-09-13T06:24:04.046568400Z",
     "start_time": "2023-09-13T06:24:04.016388300Z"
    }
   },
   "id": "5a648d5351d18a52"
  },
  {
   "cell_type": "code",
   "execution_count": 80,
   "outputs": [
    {
     "data": {
      "text/plain": "(str, __main__.MyClass)"
     },
     "execution_count": 80,
     "metadata": {},
     "output_type": "execute_result"
    }
   ],
   "source": [
    "# It is safer to use `type()` instead of `__class__`\n",
    "class MyClass:\n",
    "    __class__ = str\n",
    "    \n",
    "m = MyClass()\n",
    "\n",
    "m.__class__, type(m)"
   ],
   "metadata": {
    "collapsed": false,
    "ExecuteTime": {
     "end_time": "2023-09-13T06:24:20.412981900Z",
     "start_time": "2023-09-13T06:24:20.374687100Z"
    }
   },
   "id": "328591a62e653054"
  },
  {
   "cell_type": "code",
   "execution_count": 81,
   "outputs": [
    {
     "data": {
      "text/plain": "True"
     },
     "execution_count": 81,
     "metadata": {},
     "output_type": "execute_result"
    }
   ],
   "source": [
    "isinstance(m, MyClass)"
   ],
   "metadata": {
    "collapsed": false,
    "ExecuteTime": {
     "end_time": "2023-09-13T06:25:14.848992300Z",
     "start_time": "2023-09-13T06:25:14.830228Z"
    }
   },
   "id": "6cd9d255666bbeb5"
  },
  {
   "cell_type": "code",
   "execution_count": 82,
   "outputs": [
    {
     "data": {
      "text/plain": "True"
     },
     "execution_count": 82,
     "metadata": {},
     "output_type": "execute_result"
    }
   ],
   "source": [
    "isinstance(m, str)"
   ],
   "metadata": {
    "collapsed": false,
    "ExecuteTime": {
     "end_time": "2023-09-13T06:25:30.817021600Z",
     "start_time": "2023-09-13T06:25:30.799999700Z"
    }
   },
   "id": "b8a848ca4a04a7d6"
  },
  {
   "cell_type": "code",
   "execution_count": 83,
   "outputs": [
    {
     "data": {
      "text/plain": "False"
     },
     "execution_count": 83,
     "metadata": {},
     "output_type": "execute_result"
    }
   ],
   "source": [
    "isinstance(m, int)"
   ],
   "metadata": {
    "collapsed": false,
    "ExecuteTime": {
     "end_time": "2023-09-13T06:25:57.514978200Z",
     "start_time": "2023-09-13T06:25:57.498898800Z"
    }
   },
   "id": "854da1b16acbd0fb"
  },
  {
   "cell_type": "markdown",
   "source": [
    "**AVOID MESSING WITH DUNDER METHODS.**"
   ],
   "metadata": {
    "collapsed": false
   },
   "id": "372b6384f681499e"
  },
  {
   "cell_type": "markdown",
   "source": [
    "### Data Attributes\n",
    "\n",
    "- Python first searches attribute at Instance level, if it doesn't find there, it looks it at class level."
   ],
   "metadata": {
    "collapsed": false
   },
   "id": "27785ab67891c389"
  },
  {
   "cell_type": "code",
   "execution_count": 84,
   "outputs": [],
   "source": [
    "class BankAccount:\n",
    "    apr = 1.2"
   ],
   "metadata": {
    "collapsed": false,
    "ExecuteTime": {
     "end_time": "2023-09-13T06:28:59.334414800Z",
     "start_time": "2023-09-13T06:28:59.303445100Z"
    }
   },
   "id": "5efbe300997c1d6"
  },
  {
   "cell_type": "code",
   "execution_count": 85,
   "outputs": [
    {
     "data": {
      "text/plain": "mappingproxy({'__module__': '__main__',\n              'apr': 1.2,\n              '__dict__': <attribute '__dict__' of 'BankAccount' objects>,\n              '__weakref__': <attribute '__weakref__' of 'BankAccount' objects>,\n              '__doc__': None})"
     },
     "execution_count": 85,
     "metadata": {},
     "output_type": "execute_result"
    }
   ],
   "source": [
    "BankAccount.__dict__"
   ],
   "metadata": {
    "collapsed": false,
    "ExecuteTime": {
     "end_time": "2023-09-13T06:29:00.742169300Z",
     "start_time": "2023-09-13T06:29:00.725146200Z"
    }
   },
   "id": "c2c6e1d21d6bcecf"
  },
  {
   "cell_type": "code",
   "execution_count": 86,
   "outputs": [
    {
     "data": {
      "text/plain": "False"
     },
     "execution_count": 86,
     "metadata": {},
     "output_type": "execute_result"
    }
   ],
   "source": [
    "acc_1 = BankAccount()\n",
    "acc_2 = BankAccount()\n",
    "acc_1 is acc_2"
   ],
   "metadata": {
    "collapsed": false,
    "ExecuteTime": {
     "end_time": "2023-09-13T06:29:21.234473900Z",
     "start_time": "2023-09-13T06:29:21.216511Z"
    }
   },
   "id": "dd18a43beac22314"
  },
  {
   "cell_type": "code",
   "execution_count": 87,
   "outputs": [
    {
     "data": {
      "text/plain": "({}, {})"
     },
     "execution_count": 87,
     "metadata": {},
     "output_type": "execute_result"
    }
   ],
   "source": [
    "acc_1.__dict__, acc_2.__dict__"
   ],
   "metadata": {
    "collapsed": false,
    "ExecuteTime": {
     "end_time": "2023-09-13T06:30:33.599721300Z",
     "start_time": "2023-09-13T06:30:33.578383300Z"
    }
   },
   "id": "b18524b7429e2047"
  },
  {
   "cell_type": "code",
   "execution_count": 88,
   "outputs": [
    {
     "data": {
      "text/plain": "(1.2, 1.2)"
     },
     "execution_count": 88,
     "metadata": {},
     "output_type": "execute_result"
    }
   ],
   "source": [
    "acc_1.apr, acc_2.apr"
   ],
   "metadata": {
    "collapsed": false,
    "ExecuteTime": {
     "end_time": "2023-09-13T06:31:18.438853300Z",
     "start_time": "2023-09-13T06:31:18.408488300Z"
    }
   },
   "id": "fb1b357bf3c6fbbb"
  },
  {
   "cell_type": "code",
   "execution_count": 90,
   "outputs": [
    {
     "data": {
      "text/plain": "('Savings', 'Savings')"
     },
     "execution_count": 90,
     "metadata": {},
     "output_type": "execute_result"
    }
   ],
   "source": [
    "BankAccount.account_type = 'Savings'\n",
    "\n",
    "acc_1.account_type, acc_2.account_type"
   ],
   "metadata": {
    "collapsed": false,
    "ExecuteTime": {
     "end_time": "2023-09-13T06:33:19.803166400Z",
     "start_time": "2023-09-13T06:33:19.783343500Z"
    }
   },
   "id": "8491bd116460d0b7"
  },
  {
   "cell_type": "code",
   "execution_count": 89,
   "outputs": [
    {
     "data": {
      "text/plain": "({'apr': 0}, {})"
     },
     "execution_count": 89,
     "metadata": {},
     "output_type": "execute_result"
    }
   ],
   "source": [
    "# Change Instance attribute\n",
    "acc_1.apr = 0\n",
    "\n",
    "acc_1.__dict__, acc_2.__dict__"
   ],
   "metadata": {
    "collapsed": false,
    "ExecuteTime": {
     "end_time": "2023-09-13T06:32:21.716663100Z",
     "start_time": "2023-09-13T06:32:21.681531200Z"
    }
   },
   "id": "1a1a39e42adbefa1"
  },
  {
   "cell_type": "code",
   "execution_count": 8,
   "outputs": [
    {
     "data": {
      "text/plain": "(0, 1.2)"
     },
     "execution_count": 8,
     "metadata": {},
     "output_type": "execute_result"
    }
   ],
   "source": [
    "acc_1.apr, acc_2.apr"
   ],
   "metadata": {
    "collapsed": false,
    "ExecuteTime": {
     "end_time": "2023-09-13T02:33:58.579375700Z",
     "start_time": "2023-09-13T02:33:58.563255Z"
    }
   },
   "id": "5abdf9f29ffc4c32"
  },
  {
   "cell_type": "code",
   "execution_count": 91,
   "outputs": [
    {
     "data": {
      "text/plain": "({'apr': 0, 'bank': 'Acme Savings and loans'}, {})"
     },
     "execution_count": 91,
     "metadata": {},
     "output_type": "execute_result"
    }
   ],
   "source": [
    "# You can add new attribute to your instance\n",
    "acc_1.bank = 'Acme Savings and loans'\n",
    "acc_1.__dict__, acc_2.__dict__"
   ],
   "metadata": {
    "collapsed": false,
    "ExecuteTime": {
     "end_time": "2023-09-13T06:33:45.069834700Z",
     "start_time": "2023-09-13T06:33:45.042793800Z"
    }
   },
   "id": "df03665f06c8c8f"
  },
  {
   "cell_type": "markdown",
   "source": [
    "## Function Attributes\n",
    "\n",
    "- `Method` is an actual object type in Python.\n",
    "- Like a function, it is callable.\n",
    "- But unlike a function it is bound to some object.\n",
    "- And that object is passed to the method as its first parameter."
   ],
   "metadata": {
    "collapsed": false
   },
   "id": "cbe6996520ac5cc2"
  },
  {
   "cell_type": "markdown",
   "source": [],
   "metadata": {
    "collapsed": false
   },
   "id": "d5527253b7f5e3b8"
  },
  {
   "cell_type": "code",
   "execution_count": 107,
   "outputs": [
    {
     "name": "stdout",
     "output_type": "stream",
     "text": [
      "Hey himanshu!\n",
      "Help Himanshu\n"
     ]
    }
   ],
   "source": [
    "def print_my_name():\n",
    "    print(\"Hey himanshu!\")\n",
    "    \n",
    "class MyDummyClass:\n",
    "    say_hello = print_my_name()\n",
    "    \n",
    "obj1 = MyDummyClass()\n",
    "obj1.say_hello"
   ],
   "metadata": {
    "collapsed": false,
    "ExecuteTime": {
     "end_time": "2023-09-13T07:08:41.883482100Z",
     "start_time": "2023-09-13T07:08:41.862533700Z"
    }
   },
   "id": "a34292ac10206b78"
  },
  {
   "cell_type": "code",
   "execution_count": 108,
   "outputs": [],
   "source": [
    "class MyClass:\n",
    "\n",
    "    def say_hello():\n",
    "        print('Hello World!')\n",
    "my_obj = MyClass()"
   ],
   "metadata": {
    "collapsed": false,
    "ExecuteTime": {
     "end_time": "2023-09-13T07:15:07.021835800Z",
     "start_time": "2023-09-13T07:15:06.992623300Z"
    }
   },
   "id": "8be4c502ea8e98b5"
  },
  {
   "cell_type": "code",
   "execution_count": 109,
   "outputs": [
    {
     "data": {
      "text/plain": "<function __main__.MyClass.say_hello()>"
     },
     "execution_count": 109,
     "metadata": {},
     "output_type": "execute_result"
    }
   ],
   "source": [
    "MyClass.say_hello"
   ],
   "metadata": {
    "collapsed": false,
    "ExecuteTime": {
     "end_time": "2023-09-13T07:15:16.852175300Z",
     "start_time": "2023-09-13T07:15:16.834636400Z"
    }
   },
   "id": "a9bcc264c12808ec"
  },
  {
   "cell_type": "code",
   "execution_count": 110,
   "outputs": [
    {
     "data": {
      "text/plain": "<function __main__.MyClass.say_hello()>"
     },
     "execution_count": 110,
     "metadata": {},
     "output_type": "execute_result"
    }
   ],
   "source": [
    "my_obj.say_hello"
   ],
   "metadata": {
    "collapsed": false,
    "ExecuteTime": {
     "end_time": "2023-09-13T07:15:22.773578300Z",
     "start_time": "2023-09-13T07:15:22.752454700Z"
    }
   },
   "id": "b22d461f48e167d"
  },
  {
   "cell_type": "code",
   "execution_count": 111,
   "outputs": [
    {
     "name": "stdout",
     "output_type": "stream",
     "text": [
      "Hello World!\n"
     ]
    }
   ],
   "source": [
    "MyClass.say_hello()"
   ],
   "metadata": {
    "collapsed": false,
    "ExecuteTime": {
     "end_time": "2023-09-13T07:15:30.263542600Z",
     "start_time": "2023-09-13T07:15:30.245134500Z"
    }
   },
   "id": "602d34512fd1c6f0"
  },
  {
   "cell_type": "code",
   "execution_count": 98,
   "outputs": [
    {
     "ename": "TypeError",
     "evalue": "MyClass.say_hello() takes 0 positional arguments but 1 was given",
     "output_type": "error",
     "traceback": [
      "\u001B[1;31m---------------------------------------------------------------------------\u001B[0m",
      "\u001B[1;31mTypeError\u001B[0m                                 Traceback (most recent call last)",
      "Cell \u001B[1;32mIn[98], line 1\u001B[0m\n\u001B[1;32m----> 1\u001B[0m \u001B[43mMyClass\u001B[49m\u001B[38;5;241;43m.\u001B[39;49m\u001B[43msay_hello\u001B[49m\u001B[43m(\u001B[49m\u001B[43mmy_obj\u001B[49m\u001B[43m)\u001B[49m\n",
      "\u001B[1;31mTypeError\u001B[0m: MyClass.say_hello() takes 0 positional arguments but 1 was given"
     ]
    }
   ],
   "source": [
    "MyClass.say_hello(my_obj)"
   ],
   "metadata": {
    "collapsed": false,
    "ExecuteTime": {
     "end_time": "2023-09-13T06:51:39.243520500Z",
     "start_time": "2023-09-13T06:51:39.228472100Z"
    }
   },
   "id": "5e98611fdf12c4db"
  },
  {
   "cell_type": "code",
   "execution_count": 112,
   "outputs": [
    {
     "name": "stdout",
     "output_type": "stream",
     "text": [
      "Hello World!\n"
     ]
    }
   ],
   "source": [
    "my_obj.say_hello()"
   ],
   "metadata": {
    "collapsed": false,
    "ExecuteTime": {
     "end_time": "2023-09-13T07:15:36.882084300Z",
     "start_time": "2023-09-13T07:15:36.864605100Z"
    }
   },
   "id": "ce89214b47e87398"
  },
  {
   "cell_type": "markdown",
   "source": [
    "- `say_hello()` is a `method` object.\n",
    "- It is 'bound' to `my_obj`\n",
    "- When `my_obj.say_hello` is called, the bound object `my_obj` is injected as the first parameter to the method `say_hello`\n",
    "- It is essentially calling this: `MyClass.say_hello(my_obj)`\n",
    "\n",
    "### Methods\n",
    "\n",
    "- Methods are objects that combine: instance(of some class), function.\n",
    "- Like any object it has attributes:\n",
    "    - __self__: The instance the method is bound to\n",
    "    - __func__: The original function(defined in the class)\n",
    "- Calling `obj.method(args)` -> `method.__func__(method.__self__, args)`"
   ],
   "metadata": {
    "collapsed": false
   },
   "id": "6fc2c1f7d1fadcfb"
  },
  {
   "cell_type": "code",
   "execution_count": 99,
   "outputs": [
    {
     "data": {
      "text/plain": "{'name': 'Himanshu'}"
     },
     "execution_count": 99,
     "metadata": {},
     "output_type": "execute_result"
    }
   ],
   "source": [
    "class Person:\n",
    "    def set_name(instance_obj, new_name):\n",
    "        instance_obj.name = new_name\n",
    "    \n",
    "p = Person()\n",
    "p.set_name('Himanshu')\n",
    "p.__dict__"
   ],
   "metadata": {
    "collapsed": false,
    "ExecuteTime": {
     "end_time": "2023-09-13T06:54:45.798007200Z",
     "start_time": "2023-09-13T06:54:45.775472200Z"
    }
   },
   "id": "1e57e61bf3684f07"
  },
  {
   "cell_type": "code",
   "execution_count": 100,
   "outputs": [
    {
     "data": {
      "text/plain": "{'name': 'Harry'}"
     },
     "execution_count": 100,
     "metadata": {},
     "output_type": "execute_result"
    }
   ],
   "source": [
    "Person.set_name(p, 'Harry')\n",
    "p.__dict__"
   ],
   "metadata": {
    "collapsed": false,
    "ExecuteTime": {
     "end_time": "2023-09-13T06:54:48.875581Z",
     "start_time": "2023-09-13T06:54:48.840221500Z"
    }
   },
   "id": "6c5e9f62aabc3aba"
  },
  {
   "cell_type": "markdown",
   "source": [
    "### Instance methods\n",
    "\n",
    "- This means we need to account for that 'extra' argument when we define functions in our classes - otherwise we cannot use them as methods bound to our instances.\n",
    "- These functions are usually called `instance methods`.\n",
    "- Functions in our classes can have their own parameters.\n",
    "- When we call the corresponding instance method with arguments -> passed to the method as well.\n",
    "- And the method still receives the instance object referenced as the first argument.\n",
    "- We have access to the instance (and class) attributes."
   ],
   "metadata": {
    "collapsed": false
   },
   "id": "cf9d241bf6e685f1"
  },
  {
   "cell_type": "code",
   "execution_count": 113,
   "outputs": [
    {
     "name": "stdout",
     "output_type": "stream",
     "text": [
      "Hello World!\n"
     ]
    },
    {
     "data": {
      "text/plain": "(<bound method MyClass.say_hello of <__main__.MyClass object at 0x000001BF309EB280>>,\n None)"
     },
     "execution_count": 113,
     "metadata": {},
     "output_type": "execute_result"
    }
   ],
   "source": [
    "class MyClass:\n",
    "    def say_hello(obj):\n",
    "        print('Hello World!')\n",
    "        \n",
    "my_obj = MyClass()\n",
    "my_obj.say_hello, my_obj.say_hello()"
   ],
   "metadata": {
    "collapsed": false,
    "ExecuteTime": {
     "end_time": "2023-09-13T07:17:58.009194500Z",
     "start_time": "2023-09-13T07:17:57.957437100Z"
    }
   },
   "id": "32d0097452ae3a47"
  },
  {
   "cell_type": "code",
   "execution_count": 120,
   "outputs": [
    {
     "name": "stdout",
     "output_type": "stream",
     "text": [
      "{}\n"
     ]
    },
    {
     "data": {
      "text/plain": "'Hello Himanshu! I am java'"
     },
     "execution_count": 120,
     "metadata": {},
     "output_type": "execute_result"
    }
   ],
   "source": [
    "class MyClass:\n",
    "    language = 'java'\n",
    "    name = 'Himanshu'\n",
    "    \n",
    "    def say_hello(self):\n",
    "        return f\"Hello {self.name}! I am {self.language}\"\n",
    "    \n",
    "python = MyClass()\n",
    "print(python.__dict__)\n",
    "python.say_hello()"
   ],
   "metadata": {
    "collapsed": false,
    "ExecuteTime": {
     "end_time": "2023-09-13T07:24:02.806550800Z",
     "start_time": "2023-09-13T07:24:02.779440800Z"
    }
   },
   "id": "9c50cc3d1ba53a50"
  },
  {
   "cell_type": "markdown",
   "source": [
    "## Initializing Class Instances\n",
    "\n",
    "- When we instantiate a class, by default Python does two separate things:\n",
    "    - creates a new instance of that class.\n",
    "    - initializes the namespace of the class.\n",
    "- We can provide a custom initializer method that Python will use instead of its own."
   ],
   "metadata": {
    "collapsed": false
   },
   "id": "f0a9d9db94545406"
  },
  {
   "cell_type": "code",
   "execution_count": 122,
   "outputs": [
    {
     "data": {
      "text/plain": "'3.11'"
     },
     "execution_count": 122,
     "metadata": {},
     "output_type": "execute_result"
    }
   ],
   "source": [
    "class MyClass:\n",
    "    language = 'Python'\n",
    "    \n",
    "    def __init__(self, version):\n",
    "        self.version = version\n",
    "        \n",
    "# language is a class attribute -> in class namespace\n",
    "# __init__ is a class attribute -> in class namespace(as a function)\n",
    "my_obj = MyClass('3.11')\n",
    "my_obj.version\n",
    "# Python creates a new instance of the object with an empty namespace.\n",
    "# If we have defined an __init__ function in the class, it calls obj.__init__('3.11')\n",
    "# Our function runs and adds version to object's(self) namespace.\n",
    "# Version is an instance attribute.\n",
    "# By the time __init__ is called, Python has already created the object and a namespace for it.\n",
    "# Then __init__ is called as a method bound to the newly created instance."
   ],
   "metadata": {
    "collapsed": false,
    "ExecuteTime": {
     "end_time": "2023-09-13T07:30:00.368259400Z",
     "start_time": "2023-09-13T07:30:00.347176700Z"
    }
   },
   "id": "21fad669ebc380c0"
  },
  {
   "cell_type": "markdown",
   "source": [
    "## Creating attributes at run-time\n",
    "\n",
    "- What happens if we create a new attribute whose value is a function?\n",
    "- Then the function is not a bound method."
   ],
   "metadata": {
    "collapsed": false
   },
   "id": "6768972850b20807"
  },
  {
   "cell_type": "code",
   "execution_count": 24,
   "outputs": [
    {
     "data": {
      "text/plain": "'Hello World!'"
     },
     "execution_count": 24,
     "metadata": {},
     "output_type": "execute_result"
    }
   ],
   "source": [
    "class MyClass:\n",
    "    language = 'Python'\n",
    "    \n",
    "obj = MyClass()\n",
    "obj.version = '3.7'\n",
    "# Create a new attribute whose value isa function\n",
    "obj.say_hello = lambda : 'Hello World!'\n",
    "# obj.say_hello -> function not a bound method.\n",
    "# But say_hello does not have access to the instance namespace.\n",
    "obj.say_hello()"
   ],
   "metadata": {
    "collapsed": false,
    "ExecuteTime": {
     "end_time": "2023-09-13T03:37:49.187675700Z",
     "start_time": "2023-09-13T03:37:49.172123Z"
    }
   },
   "id": "bca27df31a560d2b"
  },
  {
   "cell_type": "code",
   "execution_count": 25,
   "outputs": [],
   "source": [
    "# Can we create and bind method to an instance at runtime?\n",
    "# Yes. Just need to define a method that binds the function to the instance.\n",
    "from types import MethodType\n",
    "class MyClass:\n",
    "    language = 'Python'\n",
    "\n",
    "obj = MyClass()\n",
    "obj.say_hello = MethodType(lambda self: f'Hello {self.language}!', obj)\n",
    "# say_hello is now a method bound to obj.\n",
    "# only obj has been affected."
   ],
   "metadata": {
    "collapsed": false,
    "ExecuteTime": {
     "end_time": "2023-09-13T03:40:40.785226200Z",
     "start_time": "2023-09-13T03:40:40.753395100Z"
    }
   },
   "id": "13fa99cf78a4fe1a"
  },
  {
   "cell_type": "markdown",
   "source": [
    "## Properties\n",
    "\n",
    "- In many languages direct access to attributes is highly discouraged.\n",
    "- Instead the convention is to make the attribute private, and create public getter and setter methods.\n",
    "- Although in Python, we don't have private attributes, we have an alternative way."
   ],
   "metadata": {
    "collapsed": false
   },
   "id": "f716af78973390a1"
  },
  {
   "cell_type": "code",
   "execution_count": 31,
   "outputs": [
    {
     "data": {
      "text/plain": "'Java'"
     },
     "execution_count": 31,
     "metadata": {},
     "output_type": "execute_result"
    }
   ],
   "source": [
    "class MyClass:\n",
    "    def __init__(self, language):\n",
    "        # Create private attribute using '_'\n",
    "        self._language = language\n",
    "    \n",
    "    def get_language(self):\n",
    "        return self._language\n",
    "    \n",
    "    def set_language(self, value):\n",
    "        self._language = value\n",
    "\n",
    "# In this case, language is considered as an instance property.\n",
    "# It is only accessible via the get_language and set_language methods\n",
    "obj = MyClass('Python')\n",
    "obj._language = 'Java'\n",
    "obj._language"
   ],
   "metadata": {
    "collapsed": false,
    "ExecuteTime": {
     "end_time": "2023-09-13T03:57:58.766701600Z",
     "start_time": "2023-09-13T03:57:58.751063Z"
    }
   },
   "id": "dc840a8bc0ecc9d3"
  },
  {
   "cell_type": "code",
   "execution_count": 30,
   "outputs": [
    {
     "data": {
      "text/plain": "'Java'"
     },
     "execution_count": 30,
     "metadata": {},
     "output_type": "execute_result"
    }
   ],
   "source": [
    "# We can use property class to define properties in a class\n",
    "class MyClass:\n",
    "    def __init__(self, language):\n",
    "        self._language = language\n",
    "        \n",
    "    def get_language(self):\n",
    "        return self._language\n",
    "    \n",
    "    def set_language(self, value):\n",
    "        self._language = value\n",
    "        \n",
    "    language = property(fget=get_language, fset=set_language)\n",
    "    \n",
    "obj = MyClass('Python')\n",
    "obj.language = 'Java'\n",
    "obj.language"
   ],
   "metadata": {
    "collapsed": false,
    "ExecuteTime": {
     "end_time": "2023-09-13T03:57:47.321574600Z",
     "start_time": "2023-09-13T03:57:47.295938700Z"
    }
   },
   "id": "be1168e2eb5c0160"
  },
  {
   "cell_type": "markdown",
   "source": [
    "### The `property` class\n",
    "\n",
    "`property` is a class(type)\n",
    "- Constructor has a few parameters:\n",
    "    - `fget`: specifies the function to use to get instance property value.\n",
    "    - `fset`: specifies the function to use to set the instance property value.\n",
    "    - `fdel`: specifies the function to call when deleting the instance property.\n",
    "    - `doc`: a string representing the docstring for the property."
   ],
   "metadata": {
    "collapsed": false
   },
   "id": "e70da6c343b1731c"
  },
  {
   "cell_type": "markdown",
   "source": [
    "## Property Decorator.\n",
    "\n",
    "- The `property` class can be instantiated in different ways:\n",
    "    - `x = property(fget=get_x, fset=set_x)`\n",
    "    - `x = property(get_x); x = x.getter(get_x); x = x.setter(set_x)`"
   ],
   "metadata": {
    "collapsed": false
   },
   "id": "de499a52cda8e521"
  },
  {
   "cell_type": "code",
   "execution_count": 33,
   "outputs": [
    {
     "name": "stdout",
     "output_type": "stream",
     "text": [
      "Python\n",
      "Python\n"
     ]
    }
   ],
   "source": [
    "class MyClass:\n",
    "    def __init__(self, language):\n",
    "        self._language = language\n",
    "        \n",
    "    def language(self):\n",
    "        return self._language\n",
    "    \n",
    "    language = property(language)\n",
    "    \n",
    "# Instead we can write something like this:\n",
    "class MyBetterClass:\n",
    "    def __init__(self, language):\n",
    "        self._language = language\n",
    "        \n",
    "    @property\n",
    "    def language(self):\n",
    "        return self._language\n",
    "obj = MyClass(language='Python')\n",
    "print(obj.language)\n",
    "obj = MyBetterClass(language='Python')\n",
    "print(obj.language)"
   ],
   "metadata": {
    "collapsed": false,
    "ExecuteTime": {
     "end_time": "2023-09-13T04:10:14.799371400Z",
     "start_time": "2023-09-13T04:10:14.782101200Z"
    }
   },
   "id": "5e031795a5bbec2f"
  },
  {
   "cell_type": "code",
   "execution_count": 34,
   "outputs": [
    {
     "name": "stdout",
     "output_type": "stream",
     "text": [
      "Java\n",
      "Python\n"
     ]
    }
   ],
   "source": [
    "class MyClass:\n",
    "    def __init__(self, language):\n",
    "        self._language = language\n",
    "        \n",
    "    @property\n",
    "    def language(self):\n",
    "        return self._language\n",
    "    \n",
    "    @language.setter\n",
    "    def language(self, value):\n",
    "        self._language = value\n",
    "        \n",
    "obj = MyClass(language='Java')\n",
    "print(obj.language)\n",
    "obj.language = 'Python'\n",
    "print(obj.language)"
   ],
   "metadata": {
    "collapsed": false,
    "ExecuteTime": {
     "end_time": "2023-09-13T04:13:54.430209800Z",
     "start_time": "2023-09-13T04:13:54.398952100Z"
    }
   },
   "id": "84e56caec1efeedf"
  },
  {
   "cell_type": "markdown",
   "source": [
    "## Read-only and computed properties\n",
    "\n",
    "- To create a read-only, we just need to create a property with only the get accessor defined.\n",
    "- Useful for computed properties.\n",
    "- Using property setters is sometimes useful for controlling how other computed properties are cached."
   ],
   "metadata": {
    "collapsed": false
   },
   "id": "8229cae175fd41bd"
  },
  {
   "cell_type": "code",
   "execution_count": 37,
   "outputs": [
    {
     "name": "stdout",
     "output_type": "stream",
     "text": [
      "3.141592653589793\n",
      "3.141592653589793\n"
     ]
    }
   ],
   "source": [
    "import math\n",
    "class Circle:\n",
    "    def __init__(self, r):\n",
    "        self.r = r\n",
    "        \n",
    "    def area(self):\n",
    "        return math.pi * self.r * self.r\n",
    "\n",
    "class CircleReadOnly:\n",
    "    def __init__(self, r):\n",
    "        self.r = r\n",
    "        \n",
    "    @property\n",
    "    def area(self):\n",
    "        return math.pi * self.r * self.r\n",
    "    \n",
    "c1 = Circle(1)\n",
    "print(c1.area())\n",
    "c2 = CircleReadOnly(1)\n",
    "print(c2.area)"
   ],
   "metadata": {
    "collapsed": false,
    "ExecuteTime": {
     "end_time": "2023-09-13T04:22:41.592518500Z",
     "start_time": "2023-09-13T04:22:41.561158300Z"
    }
   },
   "id": "1e4a39d8d137c401"
  },
  {
   "cell_type": "code",
   "execution_count": 39,
   "outputs": [],
   "source": [
    "# Application: Caching Computed properties\n",
    "# Circle:\n",
    "# Area is a computed property.\n",
    "# lazy computation: Only calculate area if requested\n",
    "# Cache value: So if re-requested we save the computation\n",
    "# If someone changes the radius, need to invalidate the cache.\n",
    "class Circle:\n",
    "    def __init__(self, r):\n",
    "        self._r = r\n",
    "        # Setting _area cached to None\n",
    "        self._area = None\n",
    "        \n",
    "    @property\n",
    "    def radius(self):\n",
    "        return self._r\n",
    "    \n",
    "    @radius.setter\n",
    "    def radius(self, r):\n",
    "        if r < 0:\n",
    "            raise ValueError('Radius must be non-negative')\n",
    "        self._r = r\n",
    "        # Invalidate cache\n",
    "        self._area = None\n",
    "        \n",
    "    @property\n",
    "    def area(self):\n",
    "        if self._area is None:\n",
    "            self._area = math.pi * (self.radius ** 2)\n",
    "        return self._area"
   ],
   "metadata": {
    "collapsed": false,
    "ExecuteTime": {
     "end_time": "2023-09-13T04:29:49.318579300Z",
     "start_time": "2023-09-13T04:29:49.302948100Z"
    }
   },
   "id": "caa38677368a2b51"
  },
  {
   "cell_type": "markdown",
   "source": [
    "## Class and Static Methods\n",
    "\n",
    "- Can we create a function in a class that will always be bound to the class and never the instance? Yes. Class Methods\n",
    "- Can we define a function in a class that will never be bound to any object when called? Yes. Static Methods"
   ],
   "metadata": {
    "collapsed": false
   },
   "id": "150b869b06af1511"
  },
  {
   "cell_type": "code",
   "execution_count": 40,
   "outputs": [],
   "source": [
    "class MyClass:\n",
    "    # MyClass: hello is a regular function.\n",
    "    # Instance: method bound to the instance.(call will fail)\n",
    "    def hello():\n",
    "        print(\"hello world\")\n",
    "    # MyClass: inst_hello is a regular function\n",
    "    # Instance: method bound to instance.\n",
    "    def inst_hello(self):\n",
    "        print(f\"Hello from {self}\")\n",
    "    # MyClass: cls_hello is a method bound to class\n",
    "    # Instance: method bound to class\n",
    "    @classmethod\n",
    "    def cls_hello(cls):\n",
    "        print(f'hello from {cls}')"
   ],
   "metadata": {
    "collapsed": false,
    "ExecuteTime": {
     "end_time": "2023-09-13T04:36:02.389857500Z",
     "start_time": "2023-09-13T04:36:02.342880Z"
    }
   },
   "id": "526ce0e91344952b"
  },
  {
   "cell_type": "code",
   "execution_count": 42,
   "outputs": [
    {
     "name": "stdout",
     "output_type": "stream",
     "text": [
      "<class 'function'>\n"
     ]
    },
    {
     "data": {
      "text/plain": "'help available'"
     },
     "execution_count": 42,
     "metadata": {},
     "output_type": "execute_result"
    }
   ],
   "source": [
    "class CircleStatic:\n",
    "    @staticmethod\n",
    "    def help():\n",
    "        return 'help available'\n",
    "    \n",
    "print(type(CircleStatic.help))\n",
    "CircleStatic.help()"
   ],
   "metadata": {
    "collapsed": false,
    "ExecuteTime": {
     "end_time": "2023-09-13T04:38:34.169211500Z",
     "start_time": "2023-09-13T04:38:34.153579300Z"
    }
   },
   "id": "db408ce43d3b93b9"
  },
  {
   "cell_type": "code",
   "execution_count": 43,
   "outputs": [
    {
     "name": "stdout",
     "output_type": "stream",
     "text": [
      "<class 'function'>\n"
     ]
    },
    {
     "data": {
      "text/plain": "'help available'"
     },
     "execution_count": 43,
     "metadata": {},
     "output_type": "execute_result"
    }
   ],
   "source": [
    "c = CircleStatic()\n",
    "print(type(c.help))\n",
    "c.help()"
   ],
   "metadata": {
    "collapsed": false,
    "ExecuteTime": {
     "end_time": "2023-09-13T04:39:17.179660800Z",
     "start_time": "2023-09-13T04:39:17.069615600Z"
    }
   },
   "id": "3e5ddd901f243f62"
  },
  {
   "cell_type": "code",
   "execution_count": null,
   "outputs": [],
   "source": [],
   "metadata": {
    "collapsed": false
   },
   "id": "1071f9ba9275c062"
  }
 ],
 "metadata": {
  "kernelspec": {
   "display_name": "Python 3",
   "language": "python",
   "name": "python3"
  },
  "language_info": {
   "codemirror_mode": {
    "name": "ipython",
    "version": 2
   },
   "file_extension": ".py",
   "mimetype": "text/x-python",
   "name": "python",
   "nbconvert_exporter": "python",
   "pygments_lexer": "ipython2",
   "version": "2.7.6"
  }
 },
 "nbformat": 4,
 "nbformat_minor": 5
}
