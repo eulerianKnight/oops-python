{
 "cells": [
  {
   "cell_type": "markdown",
   "source": [
    "# Objects and Classes in Python"
   ],
   "metadata": {
    "collapsed": false
   },
   "id": "c0cadc539e8f1103"
  },
  {
   "cell_type": "markdown",
   "source": [
    "### Object\n",
    "\n",
    "- An object can be thought of as a container.\n",
    "- This container can contain \"data\" which are sometimes called as \"state\" which can be accessed through \"attribute\"\n",
    "- This container can also contain functionality which can also refer to its behavior.\n",
    "- Consider an object called as \"my_car\": \n",
    "  - my_car:\n",
    "    - states\n",
    "      - brand = Ferrari\n",
    "      - model = 599XX\n",
    "      - year = 2010\n",
    "    - behavior\n",
    "      - accelerate\n",
    "      - brake\n",
    "      - steer\n",
    "- Accessed through dot notation.\n",
    "  - my_car.brand -> Ferrari\n",
    "  - my_car.accelerate(10)\n",
    "- Creating objects:\n",
    "  - How can we create the \"container\"?\n",
    "  - How do we define and set state?\n",
    "  - How do we define and implement behavior?\n",
    "  - How do we differentiate between both state and behavior?\n",
    "\n",
    "### Classes\n",
    "\n",
    "- Many languages use a class-based approach. A \"class\" is like a template used to create objects. Also called as \"type\".\n",
    "- Objects created from the class are called instances of that class or type.\n",
    "- Classes are themselves objects. They have attributes(state). They have behavior.\n",
    "- If a class is an object, and objects are created from classes, how are classes created?\n",
    "- Python classes are created from the type \"metaclass\". (More on it later).\n",
    "- Instances:\n",
    "  - classes have behavior. They are callable. This returns an instance of the class often called objects, differentiating from class.\n",
    "  - Instances are created from classes, their type is the class they were created from.\n",
    "    - If `MyClass` is a \"class\" in Python and `my_obj` is an instance of that class:\n",
    "        ```\n",
    "      my_obj = MyClass()\n",
    "      type(my_obj) -> MyClass\n",
    "      isinstance(my_obj, MyClass) -> True\n",
    "      ```\n",
    "- Creating Classes\n",
    "  - Use the `class` keyword.\n",
    "  - ```\n",
    "    class MyClass:\n",
    "      pass\n",
    "    ```\n",
    "  - Python creates an object called `MyClass` of type `type` and automatically provides us certain attributes(state) and methods(behavior)\n",
    "  - State: `MyClass.__name__` -> `MyClass`\n",
    "  - Behavior: `MyClass()` -> Returns an instance of `MyClass`\n",
    " "
   ],
   "metadata": {
    "collapsed": false
   },
   "id": "571f6354ea390ca2"
  },
  {
   "cell_type": "code",
   "execution_count": 1,
   "id": "initial_id",
   "metadata": {
    "collapsed": true,
    "ExecuteTime": {
     "end_time": "2023-09-09T19:25:39.431341500Z",
     "start_time": "2023-09-09T19:25:39.418086800Z"
    }
   },
   "outputs": [],
   "source": [
    "class Person:\n",
    "    pass"
   ]
  },
  {
   "cell_type": "code",
   "execution_count": 2,
   "outputs": [
    {
     "data": {
      "text/plain": "type"
     },
     "execution_count": 2,
     "metadata": {},
     "output_type": "execute_result"
    }
   ],
   "source": [
    "type(Person)"
   ],
   "metadata": {
    "collapsed": false,
    "ExecuteTime": {
     "end_time": "2023-09-09T19:25:46.975699800Z",
     "start_time": "2023-09-09T19:25:46.912343700Z"
    }
   },
   "id": "879b2378da52c0e2"
  },
  {
   "cell_type": "code",
   "execution_count": 3,
   "outputs": [
    {
     "data": {
      "text/plain": "type"
     },
     "execution_count": 3,
     "metadata": {},
     "output_type": "execute_result"
    }
   ],
   "source": [
    "type(type)"
   ],
   "metadata": {
    "collapsed": false,
    "ExecuteTime": {
     "end_time": "2023-09-09T19:52:07.551698200Z",
     "start_time": "2023-09-09T19:52:07.520441200Z"
    }
   },
   "id": "c32e7d77390e3db8"
  },
  {
   "cell_type": "code",
   "execution_count": 4,
   "outputs": [
    {
     "data": {
      "text/plain": "'Person'"
     },
     "execution_count": 4,
     "metadata": {},
     "output_type": "execute_result"
    }
   ],
   "source": [
    "Person.__name__"
   ],
   "metadata": {
    "collapsed": false,
    "ExecuteTime": {
     "end_time": "2023-09-09T19:52:32.749376500Z",
     "start_time": "2023-09-09T19:52:32.733367200Z"
    }
   },
   "id": "53eff53097a9ea6a"
  },
  {
   "cell_type": "code",
   "execution_count": 5,
   "outputs": [
    {
     "data": {
      "text/plain": "__main__.Person"
     },
     "execution_count": 5,
     "metadata": {},
     "output_type": "execute_result"
    }
   ],
   "source": [
    "a = Person()\n",
    "type(a)"
   ],
   "metadata": {
    "collapsed": false,
    "ExecuteTime": {
     "end_time": "2023-09-09T19:53:03.227032400Z",
     "start_time": "2023-09-09T19:53:03.211389500Z"
    }
   },
   "id": "71c86ebfcdd43e34"
  },
  {
   "cell_type": "code",
   "execution_count": 6,
   "outputs": [
    {
     "data": {
      "text/plain": "__main__.Person"
     },
     "execution_count": 6,
     "metadata": {},
     "output_type": "execute_result"
    }
   ],
   "source": [
    "a.__class__"
   ],
   "metadata": {
    "collapsed": false,
    "ExecuteTime": {
     "end_time": "2023-09-09T19:53:24.338444900Z",
     "start_time": "2023-09-09T19:53:24.322781900Z"
    }
   },
   "id": "aca5c9a04d1a523d"
  },
  {
   "cell_type": "code",
   "execution_count": 7,
   "outputs": [
    {
     "data": {
      "text/plain": "True"
     },
     "execution_count": 7,
     "metadata": {},
     "output_type": "execute_result"
    }
   ],
   "source": [
    "type(a) is a.__class__"
   ],
   "metadata": {
    "collapsed": false,
    "ExecuteTime": {
     "end_time": "2023-09-09T19:53:46.654219200Z",
     "start_time": "2023-09-09T19:53:46.607335Z"
    }
   },
   "id": "8f93285923fdbbd2"
  },
  {
   "cell_type": "code",
   "execution_count": 8,
   "outputs": [
    {
     "data": {
      "text/plain": "True"
     },
     "execution_count": 8,
     "metadata": {},
     "output_type": "execute_result"
    }
   ],
   "source": [
    "isinstance(a, Person)"
   ],
   "metadata": {
    "collapsed": false,
    "ExecuteTime": {
     "end_time": "2023-09-09T19:53:59.368376900Z",
     "start_time": "2023-09-09T19:53:59.355158Z"
    }
   },
   "id": "94393629d9b8cf0c"
  },
  {
   "cell_type": "code",
   "execution_count": 9,
   "outputs": [
    {
     "data": {
      "text/plain": "type"
     },
     "execution_count": 9,
     "metadata": {},
     "output_type": "execute_result"
    }
   ],
   "source": [
    "type(str)"
   ],
   "metadata": {
    "collapsed": false,
    "ExecuteTime": {
     "end_time": "2023-09-09T19:54:40.839769Z",
     "start_time": "2023-09-09T19:54:40.824140600Z"
    }
   },
   "id": "546058cfc121c806"
  },
  {
   "cell_type": "code",
   "execution_count": 10,
   "outputs": [
    {
     "name": "stdout",
     "output_type": "stream",
     "text": [
      "Help on class type in module builtins:\n",
      "\n",
      "class type(object)\n",
      " |  type(object) -> the object's type\n",
      " |  type(name, bases, dict, **kwds) -> a new type\n",
      " |  \n",
      " |  Methods defined here:\n",
      " |  \n",
      " |  __call__(self, /, *args, **kwargs)\n",
      " |      Call self as a function.\n",
      " |  \n",
      " |  __delattr__(self, name, /)\n",
      " |      Implement delattr(self, name).\n",
      " |  \n",
      " |  __dir__(self, /)\n",
      " |      Specialized __dir__ implementation for types.\n",
      " |  \n",
      " |  __getattribute__(self, name, /)\n",
      " |      Return getattr(self, name).\n",
      " |  \n",
      " |  __init__(self, /, *args, **kwargs)\n",
      " |      Initialize self.  See help(type(self)) for accurate signature.\n",
      " |  \n",
      " |  __instancecheck__(self, instance, /)\n",
      " |      Check if an object is an instance.\n",
      " |  \n",
      " |  __or__(self, value, /)\n",
      " |      Return self|value.\n",
      " |  \n",
      " |  __repr__(self, /)\n",
      " |      Return repr(self).\n",
      " |  \n",
      " |  __ror__(self, value, /)\n",
      " |      Return value|self.\n",
      " |  \n",
      " |  __setattr__(self, name, value, /)\n",
      " |      Implement setattr(self, name, value).\n",
      " |  \n",
      " |  __sizeof__(self, /)\n",
      " |      Return memory consumption of the type object.\n",
      " |  \n",
      " |  __subclasscheck__(self, subclass, /)\n",
      " |      Check if a class is a subclass.\n",
      " |  \n",
      " |  __subclasses__(self, /)\n",
      " |      Return a list of immediate subclasses.\n",
      " |  \n",
      " |  mro(self, /)\n",
      " |      Return a type's method resolution order.\n",
      " |  \n",
      " |  ----------------------------------------------------------------------\n",
      " |  Class methods defined here:\n",
      " |  \n",
      " |  __prepare__(...)\n",
      " |      __prepare__() -> dict\n",
      " |      used to create the namespace for the class statement\n",
      " |  \n",
      " |  ----------------------------------------------------------------------\n",
      " |  Static methods defined here:\n",
      " |  \n",
      " |  __new__(*args, **kwargs)\n",
      " |      Create and return a new object.  See help(type) for accurate signature.\n",
      " |  \n",
      " |  ----------------------------------------------------------------------\n",
      " |  Data descriptors defined here:\n",
      " |  \n",
      " |  __abstractmethods__\n",
      " |  \n",
      " |  __annotations__\n",
      " |  \n",
      " |  __dict__\n",
      " |  \n",
      " |  __text_signature__\n",
      " |  \n",
      " |  ----------------------------------------------------------------------\n",
      " |  Data and other attributes defined here:\n",
      " |  \n",
      " |  __base__ = <class 'object'>\n",
      " |      The base class of the class hierarchy.\n",
      " |      \n",
      " |      When called, it accepts no arguments and returns a new featureless\n",
      " |      instance that has no instance attributes and cannot be given any.\n",
      " |  \n",
      " |  \n",
      " |  __bases__ = (<class 'object'>,)\n",
      " |  \n",
      " |  __basicsize__ = 888\n",
      " |  \n",
      " |  __dictoffset__ = 264\n",
      " |  \n",
      " |  __flags__ = 2148031744\n",
      " |  \n",
      " |  __itemsize__ = 40\n",
      " |  \n",
      " |  __mro__ = (<class 'type'>, <class 'object'>)\n",
      " |  \n",
      " |  __weakrefoffset__ = 368\n"
     ]
    }
   ],
   "source": [
    "help(type)"
   ],
   "metadata": {
    "collapsed": false,
    "ExecuteTime": {
     "end_time": "2023-09-09T19:55:09.337833700Z",
     "start_time": "2023-09-09T19:55:09.315204500Z"
    }
   },
   "id": "aa5a223aba9333b3"
  },
  {
   "cell_type": "markdown",
   "source": [
    "## Class Attribute"
   ],
   "metadata": {
    "collapsed": false
   },
   "id": "d0e6df1f72ec1e2b"
  },
  {
   "cell_type": "markdown",
   "source": [
    "### Defining Attributes in Classes"
   ],
   "metadata": {
    "collapsed": false
   },
   "id": "88e101ab53cd2fb9"
  },
  {
   "cell_type": "code",
   "execution_count": 11,
   "outputs": [],
   "source": [
    "class MyClass:\n",
    "    language = 'Python'\n",
    "    version = '3.11'"
   ],
   "metadata": {
    "collapsed": false,
    "ExecuteTime": {
     "end_time": "2023-09-09T19:58:32.614607600Z",
     "start_time": "2023-09-09T19:58:32.598972500Z"
    }
   },
   "id": "d9a4c90cc7304317"
  },
  {
   "cell_type": "markdown",
   "source": [
    "- In addition to whatever attributes Python automatically creates for us, now `MyClass` also has 'language' and 'version' with a state 'Python' and '3.11' respectively."
   ],
   "metadata": {
    "collapsed": false
   },
   "id": "9a6ab3c1b824ea1d"
  },
  {
   "cell_type": "markdown",
   "source": [
    "### Retrieving Attributes\n",
    "\n",
    "- `getattr(object_symbol, attribute_name, optional_default)`\n",
    "- Shorthand way (Dot Notation)"
   ],
   "metadata": {
    "collapsed": false
   },
   "id": "76de0ea580b214d6"
  },
  {
   "cell_type": "code",
   "execution_count": 12,
   "outputs": [
    {
     "data": {
      "text/plain": "'Python'"
     },
     "execution_count": 12,
     "metadata": {},
     "output_type": "execute_result"
    }
   ],
   "source": [
    "getattr(MyClass, 'language')"
   ],
   "metadata": {
    "collapsed": false,
    "ExecuteTime": {
     "end_time": "2023-09-09T20:01:25.880336100Z",
     "start_time": "2023-09-09T20:01:25.832865800Z"
    }
   },
   "id": "c013e22b125c99f5"
  },
  {
   "cell_type": "code",
   "execution_count": 13,
   "outputs": [
    {
     "ename": "AttributeError",
     "evalue": "type object 'MyClass' has no attribute 'x'",
     "output_type": "error",
     "traceback": [
      "\u001B[1;31m---------------------------------------------------------------------------\u001B[0m",
      "\u001B[1;31mAttributeError\u001B[0m                            Traceback (most recent call last)",
      "Cell \u001B[1;32mIn[13], line 2\u001B[0m\n\u001B[0;32m      1\u001B[0m \u001B[38;5;66;03m# Suppose we try to get an attribute which doesn't exist\u001B[39;00m\n\u001B[1;32m----> 2\u001B[0m \u001B[38;5;28;43mgetattr\u001B[39;49m\u001B[43m(\u001B[49m\u001B[43mMyClass\u001B[49m\u001B[43m,\u001B[49m\u001B[43m \u001B[49m\u001B[38;5;124;43m'\u001B[39;49m\u001B[38;5;124;43mx\u001B[39;49m\u001B[38;5;124;43m'\u001B[39;49m\u001B[43m)\u001B[49m\n",
      "\u001B[1;31mAttributeError\u001B[0m: type object 'MyClass' has no attribute 'x'"
     ]
    }
   ],
   "source": [
    "# Suppose we try to get an attribute which doesn't exist\n",
    "getattr(MyClass, 'x')"
   ],
   "metadata": {
    "collapsed": false,
    "ExecuteTime": {
     "end_time": "2023-09-09T20:02:31.730417100Z",
     "start_time": "2023-09-09T20:02:31.533822100Z"
    }
   },
   "id": "27d77b1444bddb45"
  },
  {
   "cell_type": "code",
   "execution_count": 14,
   "outputs": [
    {
     "data": {
      "text/plain": "'N/A'"
     },
     "execution_count": 14,
     "metadata": {},
     "output_type": "execute_result"
    }
   ],
   "source": [
    "# Above error can be handled by specifying `optional_default` value\n",
    "getattr(MyClass, 'x', 'N/A')"
   ],
   "metadata": {
    "collapsed": false,
    "ExecuteTime": {
     "end_time": "2023-09-09T20:03:18.323300400Z",
     "start_time": "2023-09-09T20:03:18.291582900Z"
    }
   },
   "id": "70fa4d6d17210783"
  },
  {
   "cell_type": "code",
   "execution_count": 15,
   "outputs": [
    {
     "data": {
      "text/plain": "'Python'"
     },
     "execution_count": 15,
     "metadata": {},
     "output_type": "execute_result"
    }
   ],
   "source": [
    "# Dot notation\n",
    "MyClass.language"
   ],
   "metadata": {
    "collapsed": false,
    "ExecuteTime": {
     "end_time": "2023-09-09T20:03:56.560873100Z",
     "start_time": "2023-09-09T20:03:56.534881Z"
    }
   },
   "id": "8419f916ec582cb"
  },
  {
   "cell_type": "code",
   "execution_count": 16,
   "outputs": [
    {
     "ename": "AttributeError",
     "evalue": "type object 'MyClass' has no attribute 'x'",
     "output_type": "error",
     "traceback": [
      "\u001B[1;31m---------------------------------------------------------------------------\u001B[0m",
      "\u001B[1;31mAttributeError\u001B[0m                            Traceback (most recent call last)",
      "Cell \u001B[1;32mIn[16], line 2\u001B[0m\n\u001B[0;32m      1\u001B[0m \u001B[38;5;66;03m# There is no way to handle AttributeError with this notation\u001B[39;00m\n\u001B[1;32m----> 2\u001B[0m \u001B[43mMyClass\u001B[49m\u001B[38;5;241;43m.\u001B[39;49m\u001B[43mx\u001B[49m\n",
      "\u001B[1;31mAttributeError\u001B[0m: type object 'MyClass' has no attribute 'x'"
     ]
    }
   ],
   "source": [
    "# There is no way to handle AttributeError with this notation\n",
    "MyClass.x"
   ],
   "metadata": {
    "collapsed": false,
    "ExecuteTime": {
     "end_time": "2023-09-09T20:04:59.169867900Z",
     "start_time": "2023-09-09T20:04:59.106663400Z"
    }
   },
   "id": "3e88b03cc1187c23"
  },
  {
   "cell_type": "markdown",
   "source": [
    "### Setting Attribute Values in Objects\n",
    "\n",
    "- setattr function: `setattr(object_symbol, attribute_name, attribute_value)`"
   ],
   "metadata": {
    "collapsed": false
   },
   "id": "8802b38602b77535"
  },
  {
   "cell_type": "code",
   "execution_count": 17,
   "outputs": [],
   "source": [
    "setattr(MyClass, 'version', '3.10')"
   ],
   "metadata": {
    "collapsed": false,
    "ExecuteTime": {
     "end_time": "2023-09-09T20:06:20.131075Z",
     "start_time": "2023-09-09T20:06:20.115409900Z"
    }
   },
   "id": "ceefc6dc6a22f6f3"
  },
  {
   "cell_type": "code",
   "execution_count": 18,
   "outputs": [],
   "source": [
    "# Dot Notation\n",
    "MyClass.version = '3.10'"
   ],
   "metadata": {
    "collapsed": false,
    "ExecuteTime": {
     "end_time": "2023-09-09T20:06:40.263015700Z",
     "start_time": "2023-09-09T20:06:40.247352500Z"
    }
   },
   "id": "b8554b6ee74c2905"
  },
  {
   "cell_type": "code",
   "execution_count": 19,
   "outputs": [],
   "source": [
    "# If there is no attribute existing, `setattr` or `dot-notation` can add that attribute\n",
    "# as Python is a Dynamic Language.\n",
    "setattr(MyClass, 'x', 100) # or MyClass.x = 100"
   ],
   "metadata": {
    "collapsed": false,
    "ExecuteTime": {
     "end_time": "2023-09-09T20:08:53.294790Z",
     "start_time": "2023-09-09T20:08:53.279052600Z"
    }
   },
   "id": "7a4310d7fd951fd6"
  },
  {
   "cell_type": "code",
   "execution_count": 20,
   "outputs": [
    {
     "data": {
      "text/plain": "100"
     },
     "execution_count": 20,
     "metadata": {},
     "output_type": "execute_result"
    }
   ],
   "source": [
    "getattr(MyClass, 'x')"
   ],
   "metadata": {
    "collapsed": false,
    "ExecuteTime": {
     "end_time": "2023-09-09T20:09:06.454885500Z",
     "start_time": "2023-09-09T20:09:06.425649200Z"
    }
   },
   "id": "30d4a9a10fc2372f"
  },
  {
   "cell_type": "markdown",
   "source": [
    "### Where is the state stored?\n",
    "\n",
    "- It is stored in a dictionary.\n",
    "- It is called as `mappingproxy`, which is not `dict` but still a dictionary(a hashing map). It is read-only. It is a namespace.\n",
    "- It is not directly mutable dictionary but `setattr` can.\n",
    "- Ensures keys are strings (helps speeding with python)."
   ],
   "metadata": {
    "collapsed": false
   },
   "id": "1f00e99ce919e456"
  },
  {
   "cell_type": "code",
   "execution_count": 21,
   "outputs": [
    {
     "data": {
      "text/plain": "mappingproxy({'__module__': '__main__',\n              'language': 'Python',\n              'version': '3.10',\n              '__dict__': <attribute '__dict__' of 'MyClass' objects>,\n              '__weakref__': <attribute '__weakref__' of 'MyClass' objects>,\n              '__doc__': None,\n              'x': 100})"
     },
     "execution_count": 21,
     "metadata": {},
     "output_type": "execute_result"
    }
   ],
   "source": [
    "MyClass.__dict__"
   ],
   "metadata": {
    "collapsed": false,
    "ExecuteTime": {
     "end_time": "2023-09-09T20:11:28.793581300Z",
     "start_time": "2023-09-09T20:11:28.777925100Z"
    }
   },
   "id": "5a165640e3207520"
  },
  {
   "cell_type": "markdown",
   "source": [
    "### Deleting Attributes\n",
    "\n",
    "- `delattr(obj_symbol, attribute_name)`\n",
    "- `del` keyword."
   ],
   "metadata": {
    "collapsed": false
   },
   "id": "70f72622a69ed8e0"
  },
  {
   "cell_type": "code",
   "execution_count": 22,
   "outputs": [],
   "source": [
    "delattr(MyClass, 'version') # or del MyClass.version"
   ],
   "metadata": {
    "collapsed": false,
    "ExecuteTime": {
     "end_time": "2023-09-09T20:16:19.434482700Z",
     "start_time": "2023-09-09T20:16:19.402803600Z"
    }
   },
   "id": "ddbfd6eacebd2c9b"
  },
  {
   "cell_type": "code",
   "execution_count": 23,
   "outputs": [
    {
     "data": {
      "text/plain": "mappingproxy({'__module__': '__main__',\n              'language': 'Python',\n              '__dict__': <attribute '__dict__' of 'MyClass' objects>,\n              '__weakref__': <attribute '__weakref__' of 'MyClass' objects>,\n              '__doc__': None,\n              'x': 100})"
     },
     "execution_count": 23,
     "metadata": {},
     "output_type": "execute_result"
    }
   ],
   "source": [
    "MyClass.__dict__"
   ],
   "metadata": {
    "collapsed": false,
    "ExecuteTime": {
     "end_time": "2023-09-09T20:16:26.377293200Z",
     "start_time": "2023-09-09T20:16:26.361670400Z"
    }
   },
   "id": "718e78f375484fe2"
  },
  {
   "cell_type": "code",
   "execution_count": 24,
   "outputs": [
    {
     "data": {
      "text/plain": "'Python'"
     },
     "execution_count": 24,
     "metadata": {},
     "output_type": "execute_result"
    }
   ],
   "source": [
    "# Accessing the Namespace directly\n",
    "# MyClass.language\n",
    "# getattr(MyClass, 'language')\n",
    "MyClass.__dict__['language']"
   ],
   "metadata": {
    "collapsed": false,
    "ExecuteTime": {
     "end_time": "2023-09-09T20:18:08.969358300Z",
     "start_time": "2023-09-09T20:18:08.959820300Z"
    }
   },
   "id": "74bab133fdca3f61"
  },
  {
   "cell_type": "markdown",
   "source": [
    "### Setting an Attribute Value to a Callable\n",
    "\n",
    "- Attribute values can be any object. It can be other classes, any callable, anything.."
   ],
   "metadata": {
    "collapsed": false
   },
   "id": "7cde4917b80f01fc"
  },
  {
   "cell_type": "code",
   "execution_count": 33,
   "outputs": [
    {
     "data": {
      "text/plain": "mappingproxy({'__module__': '__main__',\n              'language': 'Python',\n              'say_hello': 'Hello World!',\n              '__dict__': <attribute '__dict__' of 'MyClass' objects>,\n              '__weakref__': <attribute '__weakref__' of 'MyClass' objects>,\n              '__doc__': None})"
     },
     "execution_count": 33,
     "metadata": {},
     "output_type": "execute_result"
    }
   ],
   "source": [
    "def say_hello():\n",
    "    return 'Hello World!'\n",
    "\n",
    "\n",
    "class MyClass:\n",
    "    language = \"Python\"\n",
    "    say_hello = say_hello()\n",
    "\n",
    "\n",
    "MyClass.__dict__"
   ],
   "metadata": {
    "collapsed": false,
    "ExecuteTime": {
     "end_time": "2023-09-09T20:25:55.534706900Z",
     "start_time": "2023-09-09T20:25:55.519084900Z"
    }
   },
   "id": "a5da4f597639c010"
  },
  {
   "cell_type": "code",
   "execution_count": 34,
   "outputs": [
    {
     "data": {
      "text/plain": "'Hello World!'"
     },
     "execution_count": 34,
     "metadata": {},
     "output_type": "execute_result"
    }
   ],
   "source": [
    "MyClass.__dict__['say_hello']"
   ],
   "metadata": {
    "collapsed": false,
    "ExecuteTime": {
     "end_time": "2023-09-09T20:25:59.416373900Z",
     "start_time": "2023-09-09T20:25:59.400740200Z"
    }
   },
   "id": "b0de81c37c0cfc4c"
  },
  {
   "cell_type": "markdown",
   "source": [
    "### Classes are Callable\n",
    "\n",
    "- When a class is created using `class` keyword, Python automatically adds behaviors to the class.\n",
    "- It adds something to make the class 'callable'. \n",
    "- The return value of that callable is an `object`. \n",
    "- The `type` of the object is the `class object`.\n",
    "- When we 'call' a class, a class `instance` object is created.\n",
    "- This instantiated object has its own `namespace` which is different from the `namespace` of the `class` that was used to create the object.\n",
    "- This object has some attributes Python automatically implements:\n",
    "    - `__dict__` is the object's local namespace.\n",
    "    - `__class__` tells us which class was used to instantiate the object."
   ],
   "metadata": {
    "collapsed": false
   },
   "id": "fefe11a93b7daf9d"
  },
  {
   "cell_type": "code",
   "execution_count": 39,
   "outputs": [
    {
     "data": {
      "text/plain": "(mappingproxy({'__module__': '__main__',\n               'language': 'Python',\n               '__dict__': <attribute '__dict__' of 'MyClass' objects>,\n               '__weakref__': <attribute '__weakref__' of 'MyClass' objects>,\n               '__doc__': None}),\n {})"
     },
     "execution_count": 39,
     "metadata": {},
     "output_type": "execute_result"
    }
   ],
   "source": [
    "class MyClass:\n",
    "    language = \"Python\"\n",
    "    \n",
    "my_obj = MyClass()\n",
    "\n",
    "MyClass.__dict__, my_obj.__dict__"
   ],
   "metadata": {
    "collapsed": false,
    "ExecuteTime": {
     "end_time": "2023-09-09T20:44:54.729771900Z",
     "start_time": "2023-09-09T20:44:54.714137400Z"
    }
   },
   "id": "66d2a7079573e147"
  },
  {
   "cell_type": "code",
   "execution_count": 35,
   "outputs": [
    {
     "data": {
      "text/plain": "(str, __main__.MyClass)"
     },
     "execution_count": 35,
     "metadata": {},
     "output_type": "execute_result"
    }
   ],
   "source": [
    "# It is safer to use `type()` instead of `__class__`\n",
    "class MyClass:\n",
    "    __class__ = str\n",
    "    \n",
    "m = MyClass()\n",
    "\n",
    "m.__class__, type(m)"
   ],
   "metadata": {
    "collapsed": false,
    "ExecuteTime": {
     "end_time": "2023-09-09T20:40:54.840381300Z",
     "start_time": "2023-09-09T20:40:54.809123700Z"
    }
   },
   "id": "328591a62e653054"
  },
  {
   "cell_type": "code",
   "execution_count": 36,
   "outputs": [
    {
     "data": {
      "text/plain": "True"
     },
     "execution_count": 36,
     "metadata": {},
     "output_type": "execute_result"
    }
   ],
   "source": [
    "isinstance(m, MyClass)"
   ],
   "metadata": {
    "collapsed": false,
    "ExecuteTime": {
     "end_time": "2023-09-09T20:41:08.622285600Z",
     "start_time": "2023-09-09T20:41:08.591020700Z"
    }
   },
   "id": "6cd9d255666bbeb5"
  },
  {
   "cell_type": "code",
   "execution_count": 37,
   "outputs": [
    {
     "data": {
      "text/plain": "True"
     },
     "execution_count": 37,
     "metadata": {},
     "output_type": "execute_result"
    }
   ],
   "source": [
    "isinstance(m, str)"
   ],
   "metadata": {
    "collapsed": false,
    "ExecuteTime": {
     "end_time": "2023-09-09T20:41:33.020822900Z",
     "start_time": "2023-09-09T20:41:33.001152900Z"
    }
   },
   "id": "b8a848ca4a04a7d6"
  },
  {
   "cell_type": "code",
   "execution_count": 38,
   "outputs": [
    {
     "data": {
      "text/plain": "False"
     },
     "execution_count": 38,
     "metadata": {},
     "output_type": "execute_result"
    }
   ],
   "source": [
    "isinstance(m, int)"
   ],
   "metadata": {
    "collapsed": false,
    "ExecuteTime": {
     "end_time": "2023-09-09T20:41:39.817926Z",
     "start_time": "2023-09-09T20:41:39.786676400Z"
    }
   },
   "id": "854da1b16acbd0fb"
  },
  {
   "cell_type": "markdown",
   "source": [
    "**AVOID MESSING WITH DUNDER METHODS.**"
   ],
   "metadata": {
    "collapsed": false
   },
   "id": "372b6384f681499e"
  },
  {
   "cell_type": "markdown",
   "source": [
    "### Data Attributes"
   ],
   "metadata": {
    "collapsed": false
   },
   "id": "27785ab67891c389"
  },
  {
   "cell_type": "code",
   "execution_count": null,
   "outputs": [],
   "source": [],
   "metadata": {
    "collapsed": false
   },
   "id": "5efbe300997c1d6"
  }
 ],
 "metadata": {
  "kernelspec": {
   "display_name": "Python 3",
   "language": "python",
   "name": "python3"
  },
  "language_info": {
   "codemirror_mode": {
    "name": "ipython",
    "version": 2
   },
   "file_extension": ".py",
   "mimetype": "text/x-python",
   "name": "python",
   "nbconvert_exporter": "python",
   "pygments_lexer": "ipython2",
   "version": "2.7.6"
  }
 },
 "nbformat": 4,
 "nbformat_minor": 5
}
