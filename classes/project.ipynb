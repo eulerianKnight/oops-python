{
 "cells": [
  {
   "cell_type": "markdown",
   "source": [
    "# Project: Objects and Classes\n",
    "\n",
    "## Problem\n",
    "\n",
    "Design and implement a class that will be used to represent bank accounts.\n",
    "The class should consist of following functionality:\n",
    "\n",
    "- Accounts are uniquely identified by an account number.(Assume it will be just passed in the initializer)\n",
    "- Account holders have \"first\" and \"last\" name.\n",
    "- \"Balances\" need to be zero or higher, and should not be directly settable.\n",
    "- \"Deposits\" and \"Withdrawals\"can be made (given sufficient funds)\n",
    "    - If a withdrawal is attempted that would result in negative funds, the transaction should be declined.\n",
    "- A \"monthly interest rate\" exists and is applicable to all accounts \"uniformly\". There should be a method that can be called to calculate the interest on the current balance using the current interest rate, and \"add\" to the balance.\n",
    "- Each deposit and withdrawal must generate a \"confirmation number\" composed of it:\n",
    "    - The transaction type: `D` for deposit, `W` for withdrawal, `I` for interest deposit, `X` for declined(in this case balance remains unaffected)\n",
    "    - Account number.\n",
    "    - The time the transaction was made, using UTC.\n",
    "    - An incrementing number (that increments across all accounts and transactions)\n",
    "    - for (extreme) simplicity assume that the transaction id starts at zero (or whatever number you choose) whenever the program starts.\n",
    "    the confirmation number should be returned from any of the transaction methods (deposit, withdraw, etc.)\n",
    "- Create a **method** that, given a confirmation number, returns:\n",
    "    - The account number, transaction code (D, W, etc.), datetime (UTC format), data time (in whatever timezone is specified in the argument, but more human-readable), the transaction ID.\n",
    "    - make it so it is a nice structure object (so can use dot notation to access these three attributes)\n",
    "\n",
    "\n",
    "## Example:\n",
    "\n",
    "- Account number: `31415926`\n",
    "- preferred time zone: +5:30 (IST)\n",
    "- An existing balance of `100.0`\n",
    "\n",
    "Suppose the last transaction ID in the system was `123`, and a deposit is made for `50.0` on `2023-08-30T13:57:00` (UTC) on that account or `2023-08-30T19:27:00` (IST).\n",
    "\n",
    "The new balance should reflect `150.00` and the confirmation number returned should look something like this:\n",
    "\n",
    "`D-31415926-20230830135700-124`\n",
    "\n",
    "The requirement is also a method that given the confirmation number returns an object with attributes:\n",
    "    - `result.account_number` -> `31415926`\n",
    "    - `result.transaction_code` -> `D`\n",
    "    - `result.transaction_id` -> `124`\n",
    "    - `result.time` -> `2023-08-30 19:27:00 (MST)`\n",
    "    - `result.time_utc` -> `2023-08-30T13:57:00`\n",
    "    \n",
    "- Furthermore, if current interest rate is `0.5%` and the account's balance is `1000.00` then the result of calling the `deposit_interest`(or whatever name you select for that method) should result in a new balance of `1005.00`. Calling this method should also return a confirmation number.\n",
    "\n",
    "\n",
    "## First Thought Process\n",
    "\n",
    "- Create two classes: First, `Timezone` class used to store the time zone name and offset definition(in hours and minutes). Second, `Account` that will have following \"public\" interface:\n",
    "    - initializer with account number, first name, last name, optional preferred time zone, starting balance.\n",
    "    - a first name property (read/write)\n",
    "    - a last name property (read/write)\n",
    "    - a full name property (computed, read-only)\n",
    "    - a balance property (read-only)\n",
    "    - an interest rate property (class level property)\n",
    "    - deposit, withdraw, pay_interest methods\n",
    "    - parse confirmation code\n",
    "    \n",
    "    "
   ],
   "metadata": {
    "collapsed": false
   },
   "id": "9bf49da311c15f03"
  },
  {
   "cell_type": "markdown",
   "source": [
    "## Timezone Class"
   ],
   "metadata": {
    "collapsed": false
   },
   "id": "9130043456a868b6"
  },
  {
   "cell_type": "code",
   "execution_count": 3,
   "id": "initial_id",
   "metadata": {
    "collapsed": true,
    "ExecuteTime": {
     "end_time": "2023-09-11T19:23:17.136187600Z",
     "start_time": "2023-09-11T19:23:17.128327200Z"
    }
   },
   "outputs": [],
   "source": [
    "import numbers\n",
    "from datetime import timedelta, datetime\n",
    "\n",
    "class TimeZone:\n",
    "    def __init__(self, name, offset_hours, offset_minutes):\n",
    "        \"\"\"\n",
    "        \n",
    "        :param name: \n",
    "        :param offset_hours: \n",
    "        :param offset_minutes: \n",
    "        \"\"\"\n",
    "        if name is None or len(str(name).strip()) == 0:\n",
    "            raise ValueError('Timezone name cannot be empty')\n",
    "        # Stringify and normalize the input data\n",
    "        self._name = str(name).strip()\n",
    "        \n",
    "        if not isinstance(offset_hours, numbers.Integral):\n",
    "            raise ValueError('Hour offset must be an integer.')\n",
    "        \n",
    "        if not isinstance(offset_minutes, numbers.Integral):\n",
    "            raise ValueError('Minute offset must be an integer')\n",
    "        \n",
    "        # Below check can also be performed using absolute value\n",
    "        if offset_minutes > 59 or offset_minutes < -59:\n",
    "            raise ValueError('Minutes offset must be between -59 and 59 (inclusive)')\n",
    "        \n",
    "        offset = timedelta(hours=offset_hours, minutes=offset_minutes)\n",
    "        \n",
    "        if offset < timedelta(hours=-12, minutes=0) or offset > timedelta(hours=14, minutes=0):\n",
    "            raise ValueError('Offset must be between -12:00 and +14:00.')\n",
    "        \n",
    "        self._offset_hours = offset_hours\n",
    "        self._offset_minutes = offset_minutes\n",
    "        self._offset = offset\n",
    "        \n",
    "        \n",
    "    @property\n",
    "    def offset(self):\n",
    "        return self._offset\n",
    "    \n",
    "    @property\n",
    "    def name(self):\n",
    "        return self._name\n",
    "    \n",
    "    def __eq__(self, other):\n",
    "        return (isinstance(other, TimeZone) and \n",
    "                self.name == other.name and \n",
    "                self._offset_hours == other._offset_hours and\n",
    "                self._offset_minutes == other.__offset_minutes)\n",
    "    \n",
    "    def __repr__(self):\n",
    "        return (f\"TimeZone(name='{self.name}', \"\n",
    "                f\"offset_hours={self._offset_hours}, \"\n",
    "                f\"offset_minutes={self._offset_minutes})\")"
   ]
  },
  {
   "cell_type": "code",
   "execution_count": 2,
   "outputs": [
    {
     "data": {
      "text/plain": "'ABC'"
     },
     "execution_count": 2,
     "metadata": {},
     "output_type": "execute_result"
    }
   ],
   "source": [
    "# Test the class\n",
    "tz1 = TimeZone('ABC', -2, -15)\n",
    "tz1.name"
   ],
   "metadata": {
    "collapsed": false,
    "ExecuteTime": {
     "end_time": "2023-09-11T19:23:00.068030500Z",
     "start_time": "2023-09-11T19:23:00.052398600Z"
    }
   },
   "id": "d636ce7daedc9a3e"
  },
  {
   "cell_type": "code",
   "execution_count": 5,
   "outputs": [
    {
     "name": "stdout",
     "output_type": "stream",
     "text": [
      "2023-09-11 19:23:55.286348\n",
      "2023-09-11 17:08:55.286348\n"
     ]
    }
   ],
   "source": [
    "dt = datetime.utcnow()\n",
    "print(dt)\n",
    "print(dt + tz1.offset)"
   ],
   "metadata": {
    "collapsed": false,
    "ExecuteTime": {
     "end_time": "2023-09-11T19:23:55.304556500Z",
     "start_time": "2023-09-11T19:23:55.293239100Z"
    }
   },
   "id": "617e0dae777b533e"
  },
  {
   "cell_type": "markdown",
   "source": [
    "## Transaction Numbers"
   ],
   "metadata": {
    "collapsed": false
   },
   "id": "415e3a3f8e81f88b"
  },
  {
   "cell_type": "code",
   "execution_count": 7,
   "outputs": [
    {
     "name": "stdout",
     "output_type": "stream",
     "text": [
      "101\n",
      "101\n",
      "102\n"
     ]
    }
   ],
   "source": [
    "# Little inefficient way\n",
    "class TransactionID:\n",
    "    def __init__(self, start_id):\n",
    "        self._start_id = start_id\n",
    "        \n",
    "    def next(self):\n",
    "        self._start_id += 1\n",
    "        return self._start_id\n",
    "    \n",
    "class Account:\n",
    "    def __init__(self):\n",
    "        self.transaction_counter = TransactionID(100)\n",
    "    \n",
    "    def make_transaction(self):\n",
    "        new_trans_id = self.transaction_counter.next()\n",
    "        return new_trans_id\n",
    "    \n",
    "a1 = Account()\n",
    "a2 = Account()\n",
    "\n",
    "print(a1.make_transaction())\n",
    "print(a2.make_transaction())\n",
    "print(a1.make_transaction())"
   ],
   "metadata": {
    "collapsed": false,
    "ExecuteTime": {
     "end_time": "2023-09-11T19:32:00.920975400Z",
     "start_time": "2023-09-11T19:32:00.901836Z"
    }
   },
   "id": "c017bd974707ff8d"
  },
  {
   "cell_type": "code",
   "execution_count": 10,
   "outputs": [
    {
     "name": "stdout",
     "output_type": "stream",
     "text": [
      "<generator object transaction_ids at 0x0000022F27D1A5E0>\n",
      "101\n",
      "102\n",
      "103\n"
     ]
    }
   ],
   "source": [
    "# Create a Generator\n",
    "def transaction_ids(start_id):\n",
    "    while True:\n",
    "        start_id += 1\n",
    "        yield start_id\n",
    "        \n",
    "t = transaction_ids(100)\n",
    "print(t)\n",
    "print(next(t))\n",
    "print(next(t))\n",
    "print(next(t))"
   ],
   "metadata": {
    "collapsed": false,
    "ExecuteTime": {
     "end_time": "2023-09-11T19:33:39.846973700Z",
     "start_time": "2023-09-11T19:33:39.831341800Z"
    }
   },
   "id": "eb3449915d9d6ede"
  },
  {
   "cell_type": "code",
   "execution_count": 12,
   "outputs": [
    {
     "name": "stdout",
     "output_type": "stream",
     "text": [
      "101\n",
      "101\n",
      "102\n"
     ]
    }
   ],
   "source": [
    "# Use a Generator\n",
    "class Account:\n",
    "    def __init__(self):\n",
    "        self.transaction_counter = transaction_ids(100)\n",
    "        \n",
    "    def make_transaction(self):\n",
    "        new_trans_id = next(self.transaction_counter)\n",
    "        return new_trans_id\n",
    "    \n",
    "a1 = Account()\n",
    "a2 = Account()\n",
    "\n",
    "print(a1.make_transaction())\n",
    "print(a2.make_transaction())\n",
    "print(a1.make_transaction())"
   ],
   "metadata": {
    "collapsed": false,
    "ExecuteTime": {
     "end_time": "2023-09-11T19:39:50.076107900Z",
     "start_time": "2023-09-11T19:39:50.060435800Z"
    }
   },
   "id": "469f7c8f6977ac97"
  },
  {
   "cell_type": "code",
   "execution_count": 11,
   "outputs": [
    {
     "name": "stdout",
     "output_type": "stream",
     "text": [
      "100\n",
      "100\n",
      "101\n"
     ]
    }
   ],
   "source": [
    "# Most efficient way\n",
    "import itertools\n",
    "\n",
    "class Account:\n",
    "    def __init__(self):\n",
    "        self.transaction_counter = itertools.count(100)\n",
    "        \n",
    "    def make_transaction(self): \n",
    "        new_trans_id = next(self.transaction_counter)\n",
    "        return new_trans_id\n",
    "    \n",
    "a1 = Account()\n",
    "a2 = Account()\n",
    "\n",
    "print(a1.make_transaction())\n",
    "print(a2.make_transaction())\n",
    "print(a1.make_transaction())"
   ],
   "metadata": {
    "collapsed": false,
    "ExecuteTime": {
     "end_time": "2023-09-11T19:38:38.914262200Z",
     "start_time": "2023-09-11T19:38:38.891088Z"
    }
   },
   "id": "3584724ae4c8c764"
  },
  {
   "cell_type": "markdown",
   "source": [
    "## Account Number, Names"
   ],
   "metadata": {
    "collapsed": false
   },
   "id": "d7234c6b0abceede"
  },
  {
   "cell_type": "code",
   "execution_count": 13,
   "outputs": [],
   "source": [
    "class Account:\n",
    "    \n",
    "    def __init__(self, account_number, first_name, last_name):\n",
    "        self.transaction_counter = itertools.count(100)\n",
    "        self._account_number = account_number\n",
    "        self.first_name = first_name\n",
    "        self.last_name = last_name\n",
    "        \n",
    "    @property\n",
    "    def account_number(self):\n",
    "        return self._account_number\n",
    "    \n",
    "    @property\n",
    "    def first_name(self):\n",
    "        return self._first_name\n",
    "    \n",
    "    @first_name.setter\n",
    "    def first_name(self, value):\n",
    "        self._first_name = Account.validate_name(value, 'First Name')\n",
    "        \n",
    "    @property\n",
    "    def last_name(self):\n",
    "        return self._last_name\n",
    "    \n",
    "    @last_name.setter\n",
    "    def last_name(self, value):\n",
    "        self._last_name = Account.validate_name(value, 'Last Name')\n",
    "    \n",
    "    @staticmethod    \n",
    "    def validate_name(value, field_title):\n",
    "        if value is None or len(str(value).strip()) == 0:\n",
    "        # if len(str(value).strip()) == 0:\n",
    "            raise ValueError(f'{field_title} cannot be empty')\n",
    "        return str(value).strip()"
   ],
   "metadata": {
    "collapsed": false,
    "ExecuteTime": {
     "end_time": "2023-09-11T19:55:45.714509200Z",
     "start_time": "2023-09-11T19:55:45.701004700Z"
    }
   },
   "id": "b55f6a52a20eb754"
  },
  {
   "cell_type": "code",
   "execution_count": 14,
   "outputs": [
    {
     "name": "stdout",
     "output_type": "stream",
     "text": [
      "Last Name cannot be empty\n"
     ]
    }
   ],
   "source": [
    "# Test class\n",
    "try:\n",
    "    a = Account('12345', 'John', '')\n",
    "except ValueError as ex:\n",
    "    print(ex)"
   ],
   "metadata": {
    "collapsed": false,
    "ExecuteTime": {
     "end_time": "2023-09-11T19:56:27.953638900Z",
     "start_time": "2023-09-11T19:56:27.938015500Z"
    }
   },
   "id": "8f3430512acb150a"
  },
  {
   "cell_type": "markdown",
   "source": [
    "## Add preferred timezone"
   ],
   "metadata": {
    "collapsed": false
   },
   "id": "b032fe66c6b147d9"
  },
  {
   "cell_type": "code",
   "execution_count": 19,
   "outputs": [],
   "source": [
    "class Account:\n",
    "    \n",
    "    def __init__(self, account_number, first_name, last_name, timezone=None):\n",
    "        self.transaction_counter = itertools.count(100)\n",
    "        self._account_number = account_number\n",
    "        self.first_name = first_name\n",
    "        self.last_name = last_name\n",
    "        \n",
    "        if timezone is None:\n",
    "            timezone = TimeZone('UTC', 0, 0)\n",
    "        self.timezone = timezone\n",
    "        \n",
    "    @property\n",
    "    def account_number(self):\n",
    "        return self._account_number\n",
    "    \n",
    "    @property\n",
    "    def first_name(self):\n",
    "        return self._first_name\n",
    "    \n",
    "    @first_name.setter\n",
    "    def first_name(self, value):\n",
    "        self._first_name = Account.validate_name(value, 'First Name')\n",
    "        \n",
    "    @property\n",
    "    def last_name(self):\n",
    "        return self._last_name\n",
    "    \n",
    "    @last_name.setter\n",
    "    def last_name(self, value):\n",
    "        self._last_name = Account.validate_name(value, 'Last Name')\n",
    "        \n",
    "    @property\n",
    "    def full_name(self):\n",
    "        return f'{self.first_name} {self.last_name}'\n",
    "    \n",
    "    @property\n",
    "    def timezone(self):\n",
    "        return self._timezone\n",
    "    \n",
    "    @timezone.setter\n",
    "    def timezone(self, value):\n",
    "        if not isinstance(value, TimeZone):\n",
    "            raise ValueError('Time Zone must be a valid TimeZone object')\n",
    "        self._timezone = value\n",
    "    \n",
    "    @staticmethod    \n",
    "    def validate_name(value, field_title):\n",
    "        if value is None or len(str(value).strip()) == 0:\n",
    "        # if len(str(value).strip()) == 0:\n",
    "            raise ValueError(f'{field_title} cannot be empty')\n",
    "        return str(value).strip()"
   ],
   "metadata": {
    "collapsed": false,
    "ExecuteTime": {
     "end_time": "2023-09-11T20:59:34.467977300Z",
     "start_time": "2023-09-11T20:59:34.452344600Z"
    }
   },
   "id": "bf7c599acc32804f"
  },
  {
   "cell_type": "code",
   "execution_count": null,
   "outputs": [],
   "source": [],
   "metadata": {
    "collapsed": false
   },
   "id": "c0e4a3de565a283"
  },
  {
   "cell_type": "markdown",
   "source": [
    "## Account Balance\n",
    "\n",
    "- Balance needs to be read-only property.\n",
    "- It should not be directly modified. It should be modified through transactions only.\n",
    "- Currently there is no any logging, but in production system it should be logged."
   ],
   "metadata": {
    "collapsed": false
   },
   "id": "1d8ef940eaa826e0"
  },
  {
   "cell_type": "code",
   "execution_count": 20,
   "outputs": [],
   "source": [
    "class Account:\n",
    "    \n",
    "    def __init__(self, \n",
    "                 account_number, \n",
    "                 first_name, \n",
    "                 last_name, \n",
    "                 timezone=None, \n",
    "                 initial_balance=0):\n",
    "        \"\"\"\n",
    "        \n",
    "        :param account_number: \n",
    "        :param first_name: \n",
    "        :param last_name: \n",
    "        :param timezone: \n",
    "        :param initial_balance: \n",
    "        \"\"\"\n",
    "        self.transaction_counter = itertools.count(100)\n",
    "        self._account_number = account_number\n",
    "        self.first_name = first_name\n",
    "        self.last_name = last_name\n",
    "        \n",
    "        if timezone is None:\n",
    "            timezone = TimeZone('UTC', 0, 0)\n",
    "        self.timezone = timezone\n",
    "        \n",
    "        self._balance = float(initial_balance)\n",
    "        \n",
    "    @property\n",
    "    def account_number(self):\n",
    "        return self._account_number\n",
    "    \n",
    "    @property\n",
    "    def first_name(self):\n",
    "        return self._first_name\n",
    "    \n",
    "    @first_name.setter\n",
    "    def first_name(self, value):\n",
    "        self._first_name = Account.validate_name(value, 'First Name')\n",
    "        \n",
    "    @property\n",
    "    def last_name(self):\n",
    "        return self._last_name\n",
    "    \n",
    "    @last_name.setter\n",
    "    def last_name(self, value):\n",
    "        self._last_name = Account.validate_name(value, 'Last Name')\n",
    "        \n",
    "    @property\n",
    "    def full_name(self):\n",
    "        return f'{self.first_name} {self.last_name}'\n",
    "    \n",
    "    @property\n",
    "    def balance(self):\n",
    "        return self._balance\n",
    "    \n",
    "    @property\n",
    "    def timezone(self):\n",
    "        return self._timezone\n",
    "    \n",
    "    @timezone.setter\n",
    "    def timezone(self, value):\n",
    "        if not isinstance(value, TimeZone):\n",
    "            raise ValueError('Time Zone must be a valid TimeZone object')\n",
    "        self._timezone = value\n",
    "    \n",
    "    @staticmethod    \n",
    "    def validate_name(value, field_title):\n",
    "        if value is None or len(str(value).strip()) == 0:\n",
    "        # if len(str(value).strip()) == 0:\n",
    "            raise ValueError(f'{field_title} cannot be empty')\n",
    "        return str(value).strip()"
   ],
   "metadata": {
    "collapsed": false,
    "ExecuteTime": {
     "end_time": "2023-09-11T20:59:38.613636700Z",
     "start_time": "2023-09-11T20:59:38.597590700Z"
    }
   },
   "id": "1cb0425012f41100"
  },
  {
   "cell_type": "code",
   "execution_count": 21,
   "outputs": [
    {
     "data": {
      "text/plain": "100.0"
     },
     "execution_count": 21,
     "metadata": {},
     "output_type": "execute_result"
    }
   ],
   "source": [
    "a = Account('12345', 'Himanshu', 'Himanshu', initial_balance=100)\n",
    "a.balance"
   ],
   "metadata": {
    "collapsed": false,
    "ExecuteTime": {
     "end_time": "2023-09-11T20:59:39.962144600Z",
     "start_time": "2023-09-11T20:59:39.923335100Z"
    }
   },
   "id": "efcc7c9bd4662742"
  },
  {
   "cell_type": "code",
   "execution_count": 22,
   "outputs": [
    {
     "name": "stdout",
     "output_type": "stream",
     "text": [
      "can't set attribute 'balance'\n"
     ]
    }
   ],
   "source": [
    "try:\n",
    "    a.balance = 200\n",
    "except AttributeError as ex:\n",
    "    print(ex)"
   ],
   "metadata": {
    "collapsed": false,
    "ExecuteTime": {
     "end_time": "2023-09-11T20:59:40.525209900Z",
     "start_time": "2023-09-11T20:59:40.508556100Z"
    }
   },
   "id": "624077668945ddc4"
  },
  {
   "cell_type": "markdown",
   "source": [
    "## Interest Rate\n",
    "\n",
    "- Interest rate is common to all bank accounts.\n",
    "- So, it is not an instance variable but a class variable(attribute or property)"
   ],
   "metadata": {
    "collapsed": false
   },
   "id": "7c9fb5ecfcd6b9e7"
  },
  {
   "cell_type": "code",
   "execution_count": 23,
   "outputs": [],
   "source": [
    "class Account:\n",
    "    \n",
    "    interest_rate = 0.5 # Percent\n",
    "    \n",
    "    def __init__(self, \n",
    "                 account_number, \n",
    "                 first_name, \n",
    "                 last_name, \n",
    "                 timezone=None, \n",
    "                 initial_balance=0):\n",
    "        \"\"\"\n",
    "        \n",
    "        :param account_number: \n",
    "        :param first_name: \n",
    "        :param last_name: \n",
    "        :param timezone: \n",
    "        :param initial_balance: \n",
    "        \"\"\"\n",
    "        self.transaction_counter = itertools.count(100)\n",
    "        self._account_number = account_number\n",
    "        self.first_name = first_name\n",
    "        self.last_name = last_name\n",
    "        \n",
    "        if timezone is None:\n",
    "            timezone = TimeZone('UTC', 0, 0)\n",
    "        self.timezone = timezone\n",
    "        \n",
    "        self._balance = float(initial_balance)\n",
    "        \n",
    "    @property\n",
    "    def account_number(self):\n",
    "        return self._account_number\n",
    "    \n",
    "    @property\n",
    "    def first_name(self):\n",
    "        return self._first_name\n",
    "    \n",
    "    @first_name.setter\n",
    "    def first_name(self, value):\n",
    "        self._first_name = Account.validate_name(value, 'First Name')\n",
    "        \n",
    "    @property\n",
    "    def last_name(self):\n",
    "        return self._last_name\n",
    "    \n",
    "    @last_name.setter\n",
    "    def last_name(self, value):\n",
    "        self._last_name = Account.validate_name(value, 'Last Name')\n",
    "        \n",
    "    @property\n",
    "    def full_name(self):\n",
    "        return f'{self.first_name} {self.last_name}'\n",
    "    \n",
    "    @property\n",
    "    def balance(self):\n",
    "        return self._balance\n",
    "    \n",
    "    @property\n",
    "    def timezone(self):\n",
    "        return self._timezone\n",
    "    \n",
    "    @timezone.setter\n",
    "    def timezone(self, value):\n",
    "        if not isinstance(value, TimeZone):\n",
    "            raise ValueError('Time Zone must be a valid TimeZone object')\n",
    "        self._timezone = value\n",
    "    \n",
    "    @staticmethod    \n",
    "    def validate_name(value, field_title):\n",
    "        if value is None or len(str(value).strip()) == 0:\n",
    "        # if len(str(value).strip()) == 0:\n",
    "            raise ValueError(f'{field_title} cannot be empty')\n",
    "        return str(value).strip()"
   ],
   "metadata": {
    "collapsed": false,
    "ExecuteTime": {
     "end_time": "2023-09-11T21:01:49.907131400Z",
     "start_time": "2023-09-11T21:01:49.891479800Z"
    }
   },
   "id": "8e1c15a497b1af57"
  },
  {
   "cell_type": "code",
   "execution_count": 24,
   "outputs": [
    {
     "data": {
      "text/plain": "(0.5, 0.5)"
     },
     "execution_count": 24,
     "metadata": {},
     "output_type": "execute_result"
    }
   ],
   "source": [
    "a1 = Account(1234, 'Monty', 'Python')\n",
    "a2 = Account(2345, 'John', 'Nash')\n",
    "a1.interest_rate, a2.interest_rate"
   ],
   "metadata": {
    "collapsed": false,
    "ExecuteTime": {
     "end_time": "2023-09-11T21:02:40.933520100Z",
     "start_time": "2023-09-11T21:02:40.917887400Z"
    }
   },
   "id": "aa79cba0cc961ffd"
  },
  {
   "cell_type": "code",
   "execution_count": 25,
   "outputs": [
    {
     "data": {
      "text/plain": "(10, 10)"
     },
     "execution_count": 25,
     "metadata": {},
     "output_type": "execute_result"
    }
   ],
   "source": [
    "# Changing the interest rate\n",
    "Account.interest_rate = 10\n",
    "a1.interest_rate, a2.interest_rate"
   ],
   "metadata": {
    "collapsed": false,
    "ExecuteTime": {
     "end_time": "2023-09-11T21:07:03.106448100Z",
     "start_time": "2023-09-11T21:07:03.091944200Z"
    }
   },
   "id": "e84157c15c08f8b8"
  },
  {
   "cell_type": "code",
   "execution_count": 26,
   "outputs": [
    {
     "data": {
      "text/plain": "(100, 10)"
     },
     "execution_count": 26,
     "metadata": {},
     "output_type": "execute_result"
    }
   ],
   "source": [
    "a1.interest_rate = 100\n",
    "a1.interest_rate, a2.interest_rate"
   ],
   "metadata": {
    "collapsed": false,
    "ExecuteTime": {
     "end_time": "2023-09-11T21:07:18.821549600Z",
     "start_time": "2023-09-11T21:07:18.805918300Z"
    }
   },
   "id": "28a96fcd6548ffbe"
  },
  {
   "cell_type": "code",
   "execution_count": 27,
   "outputs": [],
   "source": [
    "# Fixing the issue\n",
    "class Account:\n",
    "    \n",
    "    _interest_rate = 0.5 # Percent\n",
    "    \n",
    "    def __init__(self, \n",
    "                 account_number, \n",
    "                 first_name, \n",
    "                 last_name, \n",
    "                 timezone=None, \n",
    "                 initial_balance=0):\n",
    "        \"\"\"\n",
    "        \n",
    "        :param account_number: \n",
    "        :param first_name: \n",
    "        :param last_name: \n",
    "        :param timezone: \n",
    "        :param initial_balance: \n",
    "        \"\"\"\n",
    "        self.transaction_counter = itertools.count(100)\n",
    "        self._account_number = account_number\n",
    "        self.first_name = first_name\n",
    "        self.last_name = last_name\n",
    "        \n",
    "        if timezone is None:\n",
    "            timezone = TimeZone('UTC', 0, 0)\n",
    "        self.timezone = timezone\n",
    "        \n",
    "        self._balance = float(initial_balance)\n",
    "        \n",
    "    @property\n",
    "    def account_number(self):\n",
    "        return self._account_number\n",
    "    \n",
    "    @property\n",
    "    def first_name(self):\n",
    "        return self._first_name\n",
    "    \n",
    "    @first_name.setter\n",
    "    def first_name(self, value):\n",
    "        self._first_name = Account.validate_name(value, 'First Name')\n",
    "        \n",
    "    @property\n",
    "    def last_name(self):\n",
    "        return self._last_name\n",
    "    \n",
    "    @last_name.setter\n",
    "    def last_name(self, value):\n",
    "        self._last_name = Account.validate_name(value, 'Last Name')\n",
    "        \n",
    "    @property\n",
    "    def full_name(self):\n",
    "        return f'{self.first_name} {self.last_name}'\n",
    "    \n",
    "    @property\n",
    "    def balance(self):\n",
    "        return self._balance\n",
    "    \n",
    "    @property\n",
    "    def timezone(self):\n",
    "        return self._timezone\n",
    "    \n",
    "    @timezone.setter\n",
    "    def timezone(self, value):\n",
    "        if not isinstance(value, TimeZone):\n",
    "            raise ValueError('Time Zone must be a valid TimeZone object')\n",
    "        self._timezone = value\n",
    "        \n",
    "    @classmethod\n",
    "    def get_interest_rate(cls):\n",
    "        return cls._interest_rate\n",
    "    \n",
    "    @classmethod\n",
    "    def set_interest_rate(cls, value):\n",
    "        if not isinstance(value, numbers.Real):\n",
    "            raise ValueError('Interest rate must be a real number.')\n",
    "        \n",
    "        if value < 0:\n",
    "            raise ValueError('Interest rate cannot be negative.')\n",
    "        cls._interest_rate = value\n",
    "    \n",
    "    @staticmethod    \n",
    "    def validate_name(value, field_title):\n",
    "        if value is None or len(str(value).strip()) == 0:\n",
    "        # if len(str(value).strip()) == 0:\n",
    "            raise ValueError(f'{field_title} cannot be empty')\n",
    "        return str(value).strip()"
   ],
   "metadata": {
    "collapsed": false,
    "ExecuteTime": {
     "end_time": "2023-09-11T21:11:24.084308100Z",
     "start_time": "2023-09-11T21:11:24.037441300Z"
    }
   },
   "id": "ca4a6dfd42fb9068"
  },
  {
   "cell_type": "code",
   "execution_count": 28,
   "outputs": [
    {
     "data": {
      "text/plain": "0.5"
     },
     "execution_count": 28,
     "metadata": {},
     "output_type": "execute_result"
    }
   ],
   "source": [
    "Account.get_interest_rate()"
   ],
   "metadata": {
    "collapsed": false,
    "ExecuteTime": {
     "end_time": "2023-09-11T21:11:37.114633200Z",
     "start_time": "2023-09-11T21:11:37.100127Z"
    }
   },
   "id": "382b79b529f409c9"
  },
  {
   "cell_type": "code",
   "execution_count": 29,
   "outputs": [
    {
     "data": {
      "text/plain": "10"
     },
     "execution_count": 29,
     "metadata": {},
     "output_type": "execute_result"
    }
   ],
   "source": [
    "Account.set_interest_rate(10)\n",
    "Account.get_interest_rate()"
   ],
   "metadata": {
    "collapsed": false,
    "ExecuteTime": {
     "end_time": "2023-09-11T21:11:56.498803500Z",
     "start_time": "2023-09-11T21:11:56.486163300Z"
    }
   },
   "id": "b8a0e1d9d048e647"
  },
  {
   "cell_type": "markdown",
   "source": [
    "## Confirmation codes\n",
    "\n",
    "- the transaction code\n",
    "- the account number\n",
    "- the data/time in UTC of the transaction\n",
    "- the transaction number"
   ],
   "metadata": {
    "collapsed": false
   },
   "id": "3d65e6937a300479"
  },
  {
   "cell_type": "code",
   "execution_count": 30,
   "outputs": [
    {
     "data": {
      "text/plain": "'X-123-20230911212130-1000'"
     },
     "execution_count": 30,
     "metadata": {},
     "output_type": "execute_result"
    }
   ],
   "source": [
    "def generate_confirmation_code(account_number, transaction_id, transaction_code):\n",
    "    dt_string = datetime.utcnow().strftime('%Y%m%d%H%M%S')\n",
    "    return f'{transaction_code}-{account_number}-{dt_string}-{transaction_id}'\n",
    "\n",
    "generate_confirmation_code(123, 1000, 'X')"
   ],
   "metadata": {
    "collapsed": false,
    "ExecuteTime": {
     "end_time": "2023-09-11T21:21:31.008941200Z",
     "start_time": "2023-09-11T21:21:30.993299600Z"
    }
   },
   "id": "e952f0e3c23db954"
  },
  {
   "cell_type": "code",
   "execution_count": 31,
   "outputs": [],
   "source": [
    "from collections import namedtuple\n",
    "\n",
    "Confirmation = namedtuple('Confirmation', 'account_number transaction_code transaction_id time_utc time')"
   ],
   "metadata": {
    "collapsed": false,
    "ExecuteTime": {
     "end_time": "2023-09-12T02:10:09.945252600Z",
     "start_time": "2023-09-12T02:10:09.929631100Z"
    }
   },
   "id": "cdae4004cab7c69d"
  },
  {
   "cell_type": "code",
   "execution_count": 32,
   "outputs": [],
   "source": [
    "class Account:\n",
    "    \n",
    "    transaction_counter = itertools.count(100)    \n",
    "    _interest_rate = 0.5 # Percent\n",
    "    _transaction_codes = {\n",
    "        'deposit': 'D', \n",
    "        'withdraw': 'W', \n",
    "        'interest': 'I', \n",
    "        'rejected': 'X'\n",
    "    }\n",
    "    def __init__(self, \n",
    "                 account_number, \n",
    "                 first_name, \n",
    "                 last_name, \n",
    "                 timezone=None, \n",
    "                 initial_balance=0):\n",
    "        \"\"\"\n",
    "        \n",
    "        :param account_number: \n",
    "        :param first_name: \n",
    "        :param last_name: \n",
    "        :param timezone: \n",
    "        :param initial_balance: \n",
    "        \"\"\"\n",
    "        self._account_number = account_number\n",
    "        self.first_name = first_name\n",
    "        self.last_name = last_name\n",
    "        \n",
    "        if timezone is None:\n",
    "            timezone = TimeZone('UTC', 0, 0)\n",
    "        self.timezone = timezone\n",
    "        \n",
    "        self._balance = float(initial_balance)\n",
    "        \n",
    "    @property\n",
    "    def account_number(self):\n",
    "        return self._account_number\n",
    "    \n",
    "    @property\n",
    "    def first_name(self):\n",
    "        return self._first_name\n",
    "    \n",
    "    @first_name.setter\n",
    "    def first_name(self, value):\n",
    "        self._first_name = Account.validate_name(value, 'First Name')\n",
    "        \n",
    "    @property\n",
    "    def last_name(self):\n",
    "        return self._last_name\n",
    "    \n",
    "    @last_name.setter\n",
    "    def last_name(self, value):\n",
    "        self._last_name = Account.validate_name(value, 'Last Name')\n",
    "        \n",
    "    @property\n",
    "    def full_name(self):\n",
    "        return f'{self.first_name} {self.last_name}'\n",
    "    \n",
    "    @property\n",
    "    def balance(self):\n",
    "        return self._balance\n",
    "    \n",
    "    @property\n",
    "    def timezone(self):\n",
    "        return self._timezone\n",
    "    \n",
    "    @timezone.setter\n",
    "    def timezone(self, value):\n",
    "        if not isinstance(value, TimeZone):\n",
    "            raise ValueError('Time Zone must be a valid TimeZone object')\n",
    "        self._timezone = value\n",
    "        \n",
    "    @classmethod\n",
    "    def get_interest_rate(cls):\n",
    "        return cls._interest_rate\n",
    "    \n",
    "    @classmethod\n",
    "    def set_interest_rate(cls, value):\n",
    "        if not isinstance(value, numbers.Real):\n",
    "            raise ValueError('Interest rate must be a real number.')\n",
    "        \n",
    "        if value < 0:\n",
    "            raise ValueError('Interest rate cannot be negative.')\n",
    "        cls._interest_rate = value\n",
    "        \n",
    "    def generate_confirmation_code(self, transaction_code):\n",
    "        dt_string = datetime.utcnow().strftime('%Y%m%d%H%M%S')\n",
    "        return f'{transaction_code}-{self.account_number}-{dt_string}-{next(Account.transaction_counter)}'\n",
    "    \n",
    "    @staticmethod    \n",
    "    def validate_name(value, field_title):\n",
    "        if value is None or len(str(value).strip()) == 0:\n",
    "        # if len(str(value).strip()) == 0:\n",
    "            raise ValueError(f'{field_title} cannot be empty')\n",
    "        return str(value).strip()\n",
    "    \n",
    "    @staticmethod\n",
    "    def parse_confirmation_code(confirmation_code, preferred_time_zone=None):\n",
    "        parts = confirmation_code.split('-')\n",
    "        if len(parts) != 4:\n",
    "            raise ValueError('Invalid confirmation code')\n",
    "        transaction_code, account_number, raw_dt_utc, transaction_id = parts\n",
    "        try:\n",
    "            dt_utc = datetime.strptime(raw_dt_utc, '%Y%m%d%H%M%S')\n",
    "        except ValueError as ex:\n",
    "            raise ValueError('Invalid transaction datetime') from ex\n",
    "        \n",
    "        if preferred_time_zone is None:\n",
    "            preferred_time_zone = TimeZone('UTC', 0, 0)\n",
    "            \n",
    "        if not isinstance(preferred_time_zone, TimeZone):\n",
    "            raise ValueError('Invalid TimeZone specified')\n",
    "        \n",
    "        dt_preferred = dt_utc + preferred_time_zone.offset\n",
    "        dt_preferred_str = f\"{dt_preferred.strftime('%Y-%m-%d %H:%M:%S')} ({preferred_time_zone})\"\n",
    "        \n",
    "        return Confirmation(account_number, transaction_code, transaction_id, dt_utc.isoformat(), dt_preferred_str)"
   ],
   "metadata": {
    "collapsed": false,
    "ExecuteTime": {
     "end_time": "2023-09-12T02:32:18.928415500Z",
     "start_time": "2023-09-12T02:32:18.881191500Z"
    }
   },
   "id": "c39ebeaa699ee92d"
  },
  {
   "cell_type": "code",
   "execution_count": null,
   "outputs": [],
   "source": [
    "a = Account('A1000', 'Harry', 'Potter')\n",
    "conf_code = a.mak"
   ],
   "metadata": {
    "collapsed": false
   },
   "id": "b0b5c68efbcd2670"
  },
  {
   "cell_type": "markdown",
   "source": [
    "## Generated by Google Bard"
   ],
   "metadata": {
    "collapsed": false
   },
   "id": "b032995bc4306ee8"
  },
  {
   "cell_type": "code",
   "execution_count": null,
   "outputs": [],
   "source": [
    "class BankAccount:\n",
    "    \"\"\"\n",
    "    A class to represent a bank account.\n",
    "\n",
    "    Attributes:\n",
    "        account_number: The account number.\n",
    "        first_name: The account holder's first name.\n",
    "        last_name: The account holder's last name.\n",
    "        balance: The account balance.\n",
    "        interest_rate: The monthly interest rate.\n",
    "        transaction_id: The transaction ID.\n",
    "\n",
    "    Methods:\n",
    "        deposit: Deposits an amount to the account.\n",
    "        withdraw: Withdraws an amount from the account.\n",
    "        calculate_interest: Calculates and adds interest to the balance.\n",
    "        get_confirmation_number: Generates a confirmation number for a transaction.\n",
    "        get_transaction_details: Returns details of a transaction.\n",
    "    \"\"\"\n",
    "\n",
    "    def __init__(self, account_number, first_name, last_name, balance=0, interest_rate=0.0):\n",
    "        \"\"\"\n",
    "        Initializes a bank account.\n",
    "\n",
    "        Args:\n",
    "            account_number: The account number.\n",
    "            first_name: The account holder's first name.\n",
    "            last_name: The account holder's last name.\n",
    "            balance: The account balance.\n",
    "            interest_rate: The monthly interest rate.\n",
    "        \"\"\"\n",
    "        self.account_number = account_number\n",
    "        self.first_name = first_name\n",
    "        self.last_name = last_name\n",
    "        self.balance = balance\n",
    "        self.interest_rate = interest_rate\n",
    "        self.transaction_id = 0\n",
    "\n",
    "    def deposit(self, amount):\n",
    "        \"\"\"\n",
    "        Deposits an amount to the account.\n",
    "\n",
    "        Args:\n",
    "            amount: The amount to deposit.\n",
    "\n",
    "        Returns:\n",
    "            The confirmation number for the transaction.\n",
    "        \"\"\"\n",
    "        if amount < 0:\n",
    "            raise ValueError(\"Amount must be non-negative.\")\n",
    "\n",
    "        self.balance += amount\n",
    "        self.transaction_id += 1\n",
    "        return f\"D{self.account_number}{datetime.utcnow()}:{self.transaction_id}\"\n",
    "\n",
    "    def withdraw(self, amount):\n",
    "        \"\"\"\n",
    "        Withdraws an amount from the account.\n",
    "\n",
    "        Args:\n",
    "            amount: The amount to withdraw.\n",
    "\n",
    "        Returns:\n",
    "            The confirmation number for the transaction.\n",
    "        \"\"\"\n",
    "        if amount < 0:\n",
    "            raise ValueError(\"Amount must be non-negative.\")\n",
    "\n",
    "        if amount > self.balance:\n",
    "            return \"X\"\n",
    "\n",
    "        self.balance -= amount\n",
    "        self.transaction_id += 1\n",
    "        return f\"W{self.account_number}{datetime.utcnow()}:{self.transaction_id}\"\n",
    "\n",
    "    def calculate_interest(self):\n",
    "        \"\"\"\n",
    "        Calculates and adds interest to the balance.\n",
    "        \"\"\"\n",
    "        interest = self.balance * self.interest_rate\n",
    "        self.balance += interest\n",
    "\n",
    "    def get_confirmation_number(self, transaction_type):\n",
    "        \"\"\"\n",
    "        Generates a confirmation number for a transaction.\n",
    "\n",
    "        Args:\n",
    "            transaction_type: The type of transaction.\n",
    "\n",
    "        Returns:\n",
    "            The confirmation number.\n",
    "        \"\"\"\n",
    "        return f\"{transaction_type}{self.account_number}{datetime.utcnow()}:{self.transaction_id}\"\n",
    "\n",
    "    def get_transaction_details(self, confirmation_number):\n",
    "        \"\"\"\n",
    "        Returns details of a transaction.\n",
    "\n",
    "        Args:\n",
    "            confirmation_number: The confirmation number.\n",
    "\n",
    "        Returns:\n",
    "            A dictionary containing the transaction details.\n",
    "        \"\"\"\n",
    "        transaction_type, account_number, timestamp, transaction_id = confirmation_number.split(\":\")\n",
    "        transaction_date = datetime.strptime(timestamp, \"%Y-%m-%dT%H:%M:%S.%f\")\n",
    "        return {\n",
    "            \"transaction_type\": transaction_type,\n",
    "            \"account_number\": account_number,\n",
    "            \"transaction_date\": transaction_date,\n",
    "            \"transaction_id\": transaction_id,\n",
    "        }\n"
   ],
   "metadata": {
    "collapsed": false
   },
   "id": "f561ef778c3ef510"
  }
 ],
 "metadata": {
  "kernelspec": {
   "display_name": "Python 3",
   "language": "python",
   "name": "python3"
  },
  "language_info": {
   "codemirror_mode": {
    "name": "ipython",
    "version": 2
   },
   "file_extension": ".py",
   "mimetype": "text/x-python",
   "name": "python",
   "nbconvert_exporter": "python",
   "pygments_lexer": "ipython2",
   "version": "2.7.6"
  }
 },
 "nbformat": 4,
 "nbformat_minor": 5
}
